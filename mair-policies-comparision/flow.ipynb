{
 "cells": [
  {
   "cell_type": "code",
   "execution_count": null,
   "metadata": {},
   "outputs": [],
   "source": [
    "from load_data.utils import process_all_documents\n",
    "from load_data import load_dataframe, process_text\n",
    "from plots import plot_counter_lemmas\n",
    "from plots.topics import interactive_exploration, plot_topics, plot_similarities\n",
    "from topic_modeling.utils import check_coherence_for_topics_num\n",
    "from topic_modeling.lda_model import find_best_model, find_best_topics_num\n",
    "from topic_modeling.topic_probs import (\n",
    "    get_similarities,\n",
    "    get_topic_probs,\n",
    "    calculate_distance_matrix,\n",
    "    calculate_linkage_matrix,\n",
    "    topic_probs_by_column_binded,\n",
    "    tsne_dim_reduction,\n",
    ")\n",
    "\n",
    "import pandas as pd\n",
    "from collections import Counter\n"
   ]
  },
  {
   "cell_type": "code",
   "execution_count": null,
   "metadata": {},
   "outputs": [],
   "source": [
    "paragraphs_names= {'Summary': ['Summary'],\n",
    " \"National schemes\": ['Description of national schemes providing minimum income support'],\n",
    " 'Links with labour market activation': ['Links with labour market activation'],\n",
    " \"Links to social services\": ['Links to social services and integrated provision of targeted social services'],\n",
    " 'Governance mechanisms': ['Governance mechanisms'],\n",
    " 'Impact of minimum income schemes': ['Impact of minimum income schemes', 'Impact of MI schemes'],\n",
    " 'Sources': ['Sources']}"
   ]
  },
  {
   "cell_type": "code",
   "execution_count": null,
   "metadata": {},
   "outputs": [],
   "source": [
    "df = process_all_documents('ue_raports/', paragraphs_names, 'ue_raports/txt_files/', 'Sources')\n",
    "df.to_csv('documents.csv')\n",
    "dft = load_dataframe('documents.csv')\n",
    "processed_df = process_text(dft)"
   ]
  },
  {
   "cell_type": "code",
   "execution_count": null,
   "metadata": {},
   "outputs": [],
   "source": [
    "filter_dict = {'paragraph':'National schemes'}\n",
    "plot_counter_lemmas(processed_df, filter_dict)"
   ]
  },
  {
   "cell_type": "code",
   "execution_count": null,
   "metadata": {},
   "outputs": [],
   "source": [
    "filtered_lemmas = processed_df.loc[(processed_df[list(filter_dict)] == pd.Series(filter_dict)).all(axis=1)][\n",
    "        \"lemmas\"\n",
    "    ]\n",
    "counter = Counter(filtered_lemmas.sum()).most_common(8)\n",
    "common_words = [word for word, cnt in counter]\n",
    "topic_numbers_range = (2, 11)"
   ]
  },
  {
   "cell_type": "code",
   "execution_count": null,
   "metadata": {},
   "outputs": [],
   "source": [
    "(filtered_lemmas, models, encoded_docs, lemmas_dictionary, cvs) = check_coherence_for_topics_num(\n",
    "    processed_df,\n",
    "    filter_dict,\n",
    "    common_words,\n",
    "    topic_numbers_range\n",
    ")\n"
   ]
  },
  {
   "cell_type": "code",
   "execution_count": null,
   "metadata": {},
   "outputs": [],
   "source": [
    "num_topics = find_best_topics_num(cvs, topic_numbers_range)\n",
    "lda_model = find_best_model(encoded_docs, lemmas_dictionary, cvs, topic_numbers_range)"
   ]
  },
  {
   "cell_type": "code",
   "execution_count": null,
   "metadata": {},
   "outputs": [],
   "source": [
    "interactive_exploration(lda_model, encoded_docs, lemmas_dictionary)"
   ]
  },
  {
   "cell_type": "code",
   "execution_count": null,
   "metadata": {},
   "outputs": [],
   "source": [
    "fig = plot_topics(lda_model, filtered_lemmas, int(num_topics/2), 2, \" \", (12,5*int(num_topics/2)))"
   ]
  },
  {
   "cell_type": "code",
   "execution_count": null,
   "metadata": {},
   "outputs": [],
   "source": [
    "modeling_results, topic_probs = get_topic_probs(processed_df, filter_dict, lda_model, num_topics, encoded_docs)\n",
    "linkage = calculate_linkage_matrix(topic_probs)\n",
    "similarities = get_similarities(topic_probs)\n",
    "dist_matrix = calculate_distance_matrix(topic_probs)"
   ]
  },
  {
   "cell_type": "code",
   "execution_count": null,
   "metadata": {},
   "outputs": [],
   "source": [
    "plot_similarities(similarities, topic_probs, linkage)"
   ]
  },
  {
   "cell_type": "code",
   "execution_count": null,
   "metadata": {},
   "outputs": [],
   "source": [
    "topics_by_country = topic_probs_by_column_binded(modeling_results, num_topics, column='country')\n",
    "tsne_result = tsne_dim_reduction(topics_by_country, num_topics, perplexity=10)"
   ]
  }
 ],
 "metadata": {
  "kernelspec": {
   "display_name": "Python 3.10.2 ('mair-policies-comparision-jbXYZVYX-py3.10')",
   "language": "python",
   "name": "python3"
  },
  "language_info": {
   "codemirror_mode": {
    "name": "ipython",
    "version": 3
   },
   "file_extension": ".py",
   "mimetype": "text/x-python",
   "name": "python",
   "nbconvert_exporter": "python",
   "pygments_lexer": "ipython3",
   "version": "3.10.2"
  },
  "orig_nbformat": 4,
  "vscode": {
   "interpreter": {
    "hash": "ee5b7bfb537b2f3d7800e4407e86a4da00db089c84d27132bc5b06aea18e8767"
   }
  }
 },
 "nbformat": 4,
 "nbformat_minor": 2
}
