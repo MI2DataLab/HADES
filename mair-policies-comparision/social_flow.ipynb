{
 "cells": [
  {
   "cell_type": "code",
   "execution_count": 1,
   "metadata": {},
   "outputs": [
    {
     "name": "stderr",
     "output_type": "stream",
     "text": [
      "C:\\Users\\piotr\\AppData\\Local\\Packages\\PythonSoftwareFoundation.Python.3.9_qbz5n2kfra8p0\\LocalCache\\local-packages\\Python39\\site-packages\\tqdm\\auto.py:22: TqdmWarning: IProgress not found. Please update jupyter and ipywidgets. See https://ipywidgets.readthedocs.io/en/stable/user_install.html\n",
      "  from .autonotebook import tqdm as notebook_tqdm\n"
     ]
    }
   ],
   "source": [
    "from load_data import load_processed_data\n",
    "from topic_modeling.model_optimizer import ModelOptimizer, save_data_for_app\n",
    "from social_reports import COMMON_WORDS, PARAGRAPHS, STOPWORDS\n",
    "\n",
    "from sentence_topic_analyser import SentenceTopicAnalyser\n",
    "import json\n",
    "import numpy as np"
   ]
  },
  {
   "cell_type": "code",
   "execution_count": 2,
   "metadata": {},
   "outputs": [],
   "source": [
    "data_path = './social_reports/'\n",
    "processed_df = load_processed_data(data_path, stop_words=STOPWORDS)"
   ]
  },
  {
   "cell_type": "code",
   "execution_count": 3,
   "metadata": {},
   "outputs": [],
   "source": [
    "class NpEncoder(json.JSONEncoder):\n",
    "    def default(self, obj):\n",
    "        if isinstance(obj, np.integer):\n",
    "            return int(obj)\n",
    "        if isinstance(obj, np.floating):\n",
    "            # 👇️ alternatively use str()\n",
    "            return float(obj)\n",
    "        if isinstance(obj, np.ndarray):\n",
    "            return obj.tolist()\n",
    "        return json.JSONEncoder.default(self, obj)"
   ]
  },
  {
   "cell_type": "code",
   "execution_count": 4,
   "metadata": {},
   "outputs": [
    {
     "name": "stderr",
     "output_type": "stream",
     "text": [
      "100%|██████████| 1/1 [00:01<00:00,  1.62s/it]\n",
      "100%|██████████| 1/1 [00:02<00:00,  2.41s/it]\n"
     ]
    },
    {
     "name": "stdout",
     "output_type": "stream",
     "text": [
      "[t-SNE] Computing 24 nearest neighbors...\n",
      "[t-SNE] Indexed 25 samples in 0.001s...\n",
      "[t-SNE] Computed neighbors for 25 samples in 0.136s...\n",
      "[t-SNE] Computed conditional probabilities for sample 25 / 25\n",
      "[t-SNE] Mean sigma: 0.004333\n",
      "[t-SNE] KL divergence after 250 iterations with early exaggeration: 43.454979\n",
      "[t-SNE] KL divergence after 1000 iterations: 0.040317\n"
     ]
    },
    {
     "name": "stderr",
     "output_type": "stream",
     "text": [
      "100%|██████████| 1/1 [00:02<00:00,  2.04s/it]\n",
      "100%|██████████| 1/1 [00:02<00:00,  2.65s/it]\n"
     ]
    },
    {
     "name": "stdout",
     "output_type": "stream",
     "text": [
      "[t-SNE] Computing 23 nearest neighbors...\n",
      "[t-SNE] Indexed 24 samples in 0.001s...\n",
      "[t-SNE] Computed neighbors for 24 samples in 0.005s...\n",
      "[t-SNE] Computed conditional probabilities for sample 24 / 24\n",
      "[t-SNE] Mean sigma: 0.028853\n",
      "[t-SNE] KL divergence after 250 iterations with early exaggeration: 43.908348\n",
      "[t-SNE] KL divergence after 1000 iterations: 0.202091\n"
     ]
    },
    {
     "name": "stderr",
     "output_type": "stream",
     "text": [
      "100%|██████████| 1/1 [00:01<00:00,  1.63s/it]\n",
      "100%|██████████| 1/1 [00:02<00:00,  2.53s/it]\n"
     ]
    },
    {
     "name": "stdout",
     "output_type": "stream",
     "text": [
      "[t-SNE] Computing 21 nearest neighbors...\n",
      "[t-SNE] Indexed 22 samples in 0.000s...\n",
      "[t-SNE] Computed neighbors for 22 samples in 0.006s...\n",
      "[t-SNE] Computed conditional probabilities for sample 22 / 22\n",
      "[t-SNE] Mean sigma: 0.008642\n",
      "[t-SNE] KL divergence after 250 iterations with early exaggeration: 40.165207\n",
      "[t-SNE] KL divergence after 1000 iterations: 0.457917\n"
     ]
    },
    {
     "name": "stderr",
     "output_type": "stream",
     "text": [
      "100%|██████████| 1/1 [00:01<00:00,  1.47s/it]\n",
      "100%|██████████| 1/1 [00:02<00:00,  2.53s/it]\n"
     ]
    },
    {
     "name": "stdout",
     "output_type": "stream",
     "text": [
      "[t-SNE] Computing 19 nearest neighbors...\n",
      "[t-SNE] Indexed 20 samples in 0.000s...\n",
      "[t-SNE] Computed neighbors for 20 samples in 0.006s...\n",
      "[t-SNE] Computed conditional probabilities for sample 20 / 20\n",
      "[t-SNE] Mean sigma: 0.005130\n",
      "[t-SNE] KL divergence after 250 iterations with early exaggeration: 48.973068\n",
      "[t-SNE] KL divergence after 1000 iterations: 0.005609\n"
     ]
    },
    {
     "name": "stderr",
     "output_type": "stream",
     "text": [
      "100%|██████████| 1/1 [00:01<00:00,  1.61s/it]\n",
      "100%|██████████| 1/1 [00:02<00:00,  2.41s/it]\n"
     ]
    },
    {
     "name": "stdout",
     "output_type": "stream",
     "text": [
      "[t-SNE] Computing 24 nearest neighbors...\n",
      "[t-SNE] Indexed 25 samples in 0.000s...\n",
      "[t-SNE] Computed neighbors for 25 samples in 0.005s...\n",
      "[t-SNE] Computed conditional probabilities for sample 25 / 25\n",
      "[t-SNE] Mean sigma: 0.004651\n",
      "[t-SNE] KL divergence after 250 iterations with early exaggeration: 45.617977\n",
      "[t-SNE] KL divergence after 1000 iterations: 0.054337\n"
     ]
    },
    {
     "name": "stderr",
     "output_type": "stream",
     "text": [
      "100%|██████████| 1/1 [00:01<00:00,  1.49s/it]\n",
      "100%|██████████| 1/1 [00:02<00:00,  2.51s/it]\n"
     ]
    },
    {
     "name": "stdout",
     "output_type": "stream",
     "text": [
      "[t-SNE] Computing 18 nearest neighbors...\n",
      "[t-SNE] Indexed 19 samples in 0.001s...\n",
      "[t-SNE] Computed neighbors for 19 samples in 0.006s...\n",
      "[t-SNE] Computed conditional probabilities for sample 19 / 19\n",
      "[t-SNE] Mean sigma: 0.007214\n",
      "[t-SNE] KL divergence after 250 iterations with early exaggeration: 41.889931\n",
      "[t-SNE] KL divergence after 1000 iterations: -0.058471\n"
     ]
    }
   ],
   "source": [
    "save_path=\"./social_results/\"\n",
    "lda_alpha = 100\n",
    "\n",
    "for paragraph_number in range(len(PARAGRAPHS)):\n",
    "    filter_dict = {'paragraph': PARAGRAPHS[paragraph_number]}\n",
    "    model_optimizer = ModelOptimizer(processed_df, filter_dict, COMMON_WORDS[PARAGRAPHS[paragraph_number]], (5,6), lda_alpha=lda_alpha)\n",
    "    save_data_for_app(model_optimizer, path=save_path, perplexity=16)\n",
    "    \n",
    "    sentence_topic_analyser = SentenceTopicAnalyser(model_optimizer)\n",
    "    df_to_summarize = model_optimizer.data\n",
    "    sentences_processed = sentence_topic_analyser.process_documents(df_to_summarize.groupby(\"country\")['tokens'].sum())\n",
    "    country_sentence_dict = dict(zip(df_to_summarize.country.unique(), sentences_processed))\n",
    "    json.dump(country_sentence_dict, open(save_path + f\"{lda_alpha}_{PARAGRAPHS[paragraph_number].replace(' ', '_')}_essentials.json\", 'w'), cls=NpEncoder)"
   ]
  }
 ],
 "metadata": {
  "kernelspec": {
   "display_name": "Python 3",
   "language": "python",
   "name": "python3"
  },
  "language_info": {
   "codemirror_mode": {
    "name": "ipython",
    "version": 3
   },
   "file_extension": ".py",
   "mimetype": "text/x-python",
   "name": "python",
   "nbconvert_exporter": "python",
   "pygments_lexer": "ipython3",
   "version": "3.9.13"
  },
  "orig_nbformat": 4,
  "vscode": {
   "interpreter": {
    "hash": "b7e3d984ac6b96308231491eb30f4c8feaf98844c982bbb63c649bfa5832fd16"
   }
  }
 },
 "nbformat": 4,
 "nbformat_minor": 2
}
