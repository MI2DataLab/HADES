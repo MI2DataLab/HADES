{
 "cells": [
  {
   "cell_type": "code",
   "execution_count": 1,
   "metadata": {},
   "outputs": [
    {
     "name": "stderr",
     "output_type": "stream",
     "text": [
      "C:\\Users\\piotr\\AppData\\Local\\Packages\\PythonSoftwareFoundation.Python.3.9_qbz5n2kfra8p0\\LocalCache\\local-packages\\Python39\\site-packages\\tqdm\\auto.py:22: TqdmWarning: IProgress not found. Please update jupyter and ipywidgets. See https://ipywidgets.readthedocs.io/en/stable/user_install.html\n",
      "  from .autonotebook import tqdm as notebook_tqdm\n"
     ]
    }
   ],
   "source": [
    "from load_data import load_processed_data\n",
    "from topic_modeling.model_optimizer import ModelOptimizer, save_data_for_app\n",
    "from necp_reports import COMMON_WORDS, PARAGRAPHS, STOPWORDS, DIMENSIONS\n",
    "\n",
    "from sentence_topic_analyser import SentenceTopicAnalyser\n",
    "import json\n",
    "import numpy as np"
   ]
  },
  {
   "cell_type": "code",
   "execution_count": 2,
   "metadata": {},
   "outputs": [],
   "source": [
    "data_path = './necp_reports/'\n",
    "processed_df = load_processed_data(data_path, stop_words=STOPWORDS)"
   ]
  },
  {
   "cell_type": "code",
   "execution_count": 3,
   "metadata": {},
   "outputs": [],
   "source": [
    "class NpEncoder(json.JSONEncoder):\n",
    "    def default(self, obj):\n",
    "        if isinstance(obj, np.integer):\n",
    "            return int(obj)\n",
    "        if isinstance(obj, np.floating):\n",
    "            # 👇️ alternatively use str()\n",
    "            return float(obj)\n",
    "        if isinstance(obj, np.ndarray):\n",
    "            return obj.tolist()\n",
    "        return json.JSONEncoder.default(self, obj)"
   ]
  },
  {
   "cell_type": "code",
   "execution_count": 5,
   "metadata": {},
   "outputs": [
    {
     "name": "stderr",
     "output_type": "stream",
     "text": [
      "100%|██████████| 1/1 [00:19<00:00, 19.57s/it]\n",
      "100%|██████████| 1/1 [00:34<00:00, 34.57s/it]\n",
      "c:\\Users\\piotr\\PW\\lab\\public-policies\\policyComparison\\mair-policies-comparision\\topic_modeling\\model_optimizer.py:83: UserWarning: country - Latvia has missing rows!\n",
      "  warnings.warn(f\"{column} - {column_val} has missing rows!\")\n",
      "c:\\Users\\piotr\\PW\\lab\\public-policies\\policyComparison\\mair-policies-comparision\\topic_modeling\\model_optimizer.py:83: UserWarning: country - Greece has missing rows!\n",
      "  warnings.warn(f\"{column} - {column_val} has missing rows!\")\n",
      "c:\\Users\\piotr\\PW\\lab\\public-policies\\policyComparison\\mair-policies-comparision\\topic_modeling\\model_optimizer.py:83: UserWarning: country - Latvia has missing rows!\n",
      "  warnings.warn(f\"{column} - {column_val} has missing rows!\")\n",
      "c:\\Users\\piotr\\PW\\lab\\public-policies\\policyComparison\\mair-policies-comparision\\topic_modeling\\model_optimizer.py:83: UserWarning: country - Greece has missing rows!\n",
      "  warnings.warn(f\"{column} - {column_val} has missing rows!\")\n"
     ]
    },
    {
     "name": "stdout",
     "output_type": "stream",
     "text": [
      "[t-SNE] Computing 24 nearest neighbors...\n",
      "[t-SNE] Indexed 25 samples in 0.000s...\n",
      "[t-SNE] Computed neighbors for 25 samples in 0.020s...\n",
      "[t-SNE] Computed conditional probabilities for sample 25 / 25\n",
      "[t-SNE] Mean sigma: 0.562333\n",
      "[t-SNE] KL divergence after 250 iterations with early exaggeration: 47.040001\n",
      "[t-SNE] KL divergence after 1000 iterations: 0.428693\n"
     ]
    },
    {
     "name": "stderr",
     "output_type": "stream",
     "text": [
      "c:\\Users\\piotr\\PW\\lab\\public-policies\\policyComparison\\mair-policies-comparision\\topic_modeling\\model_optimizer.py:83: UserWarning: country - Latvia has missing rows!\n",
      "  warnings.warn(f\"{column} - {column_val} has missing rows!\")\n",
      "c:\\Users\\piotr\\PW\\lab\\public-policies\\policyComparison\\mair-policies-comparision\\topic_modeling\\model_optimizer.py:83: UserWarning: country - Greece has missing rows!\n",
      "  warnings.warn(f\"{column} - {column_val} has missing rows!\")\n",
      "100%|██████████| 1/1 [00:12<00:00, 12.51s/it]\n",
      "100%|██████████| 1/1 [00:26<00:00, 26.39s/it]\n",
      "c:\\Users\\piotr\\PW\\lab\\public-policies\\policyComparison\\mair-policies-comparision\\topic_modeling\\model_optimizer.py:83: UserWarning: country - Greece has missing rows!\n",
      "  warnings.warn(f\"{column} - {column_val} has missing rows!\")\n",
      "c:\\Users\\piotr\\PW\\lab\\public-policies\\policyComparison\\mair-policies-comparision\\topic_modeling\\model_optimizer.py:83: UserWarning: country - Greece has missing rows!\n",
      "  warnings.warn(f\"{column} - {column_val} has missing rows!\")\n"
     ]
    },
    {
     "name": "stdout",
     "output_type": "stream",
     "text": [
      "[t-SNE] Computing 25 nearest neighbors...\n",
      "[t-SNE] Indexed 26 samples in 0.000s...\n",
      "[t-SNE] Computed neighbors for 26 samples in 0.016s...\n",
      "[t-SNE] Computed conditional probabilities for sample 26 / 26\n",
      "[t-SNE] Mean sigma: 0.281031\n",
      "[t-SNE] KL divergence after 250 iterations with early exaggeration: 42.263252\n",
      "[t-SNE] KL divergence after 800 iterations: 0.295649\n"
     ]
    },
    {
     "name": "stderr",
     "output_type": "stream",
     "text": [
      "c:\\Users\\piotr\\PW\\lab\\public-policies\\policyComparison\\mair-policies-comparision\\topic_modeling\\model_optimizer.py:83: UserWarning: country - Greece has missing rows!\n",
      "  warnings.warn(f\"{column} - {column_val} has missing rows!\")\n",
      "100%|██████████| 1/1 [00:10<00:00, 10.18s/it]\n",
      "100%|██████████| 1/1 [00:13<00:00, 13.98s/it]\n",
      "c:\\Users\\piotr\\PW\\lab\\public-policies\\policyComparison\\mair-policies-comparision\\topic_modeling\\model_optimizer.py:83: UserWarning: country - Greece has missing rows!\n",
      "  warnings.warn(f\"{column} - {column_val} has missing rows!\")\n",
      "c:\\Users\\piotr\\PW\\lab\\public-policies\\policyComparison\\mair-policies-comparision\\topic_modeling\\model_optimizer.py:83: UserWarning: country - Greece has missing rows!\n",
      "  warnings.warn(f\"{column} - {column_val} has missing rows!\")\n"
     ]
    },
    {
     "name": "stdout",
     "output_type": "stream",
     "text": [
      "[t-SNE] Computing 25 nearest neighbors...\n",
      "[t-SNE] Indexed 26 samples in 0.000s...\n",
      "[t-SNE] Computed neighbors for 26 samples in 0.009s...\n",
      "[t-SNE] Computed conditional probabilities for sample 26 / 26\n",
      "[t-SNE] Mean sigma: 0.131894\n",
      "[t-SNE] KL divergence after 250 iterations with early exaggeration: 42.790466\n",
      "[t-SNE] KL divergence after 900 iterations: 0.012158\n"
     ]
    },
    {
     "name": "stderr",
     "output_type": "stream",
     "text": [
      "c:\\Users\\piotr\\PW\\lab\\public-policies\\policyComparison\\mair-policies-comparision\\topic_modeling\\model_optimizer.py:83: UserWarning: country - Greece has missing rows!\n",
      "  warnings.warn(f\"{column} - {column_val} has missing rows!\")\n",
      "100%|██████████| 1/1 [00:12<00:00, 12.58s/it]\n",
      "100%|██████████| 1/1 [00:16<00:00, 16.09s/it]\n",
      "c:\\Users\\piotr\\PW\\lab\\public-policies\\policyComparison\\mair-policies-comparision\\topic_modeling\\model_optimizer.py:83: UserWarning: country - Greece has missing rows!\n",
      "  warnings.warn(f\"{column} - {column_val} has missing rows!\")\n",
      "c:\\Users\\piotr\\PW\\lab\\public-policies\\policyComparison\\mair-policies-comparision\\topic_modeling\\model_optimizer.py:83: UserWarning: country - Greece has missing rows!\n",
      "  warnings.warn(f\"{column} - {column_val} has missing rows!\")\n"
     ]
    },
    {
     "name": "stdout",
     "output_type": "stream",
     "text": [
      "[t-SNE] Computing 25 nearest neighbors...\n",
      "[t-SNE] Indexed 26 samples in 0.000s...\n",
      "[t-SNE] Computed neighbors for 26 samples in 0.008s...\n",
      "[t-SNE] Computed conditional probabilities for sample 26 / 26\n",
      "[t-SNE] Mean sigma: 0.191513\n",
      "[t-SNE] KL divergence after 250 iterations with early exaggeration: 41.921574\n",
      "[t-SNE] KL divergence after 800 iterations: 0.014935\n"
     ]
    },
    {
     "name": "stderr",
     "output_type": "stream",
     "text": [
      "c:\\Users\\piotr\\PW\\lab\\public-policies\\policyComparison\\mair-policies-comparision\\topic_modeling\\model_optimizer.py:83: UserWarning: country - Greece has missing rows!\n",
      "  warnings.warn(f\"{column} - {column_val} has missing rows!\")\n",
      "100%|██████████| 1/1 [00:08<00:00,  8.60s/it]\n",
      "100%|██████████| 1/1 [00:10<00:00, 10.03s/it]\n",
      "c:\\Users\\piotr\\PW\\lab\\public-policies\\policyComparison\\mair-policies-comparision\\topic_modeling\\model_optimizer.py:83: UserWarning: country - Greece has missing rows!\n",
      "  warnings.warn(f\"{column} - {column_val} has missing rows!\")\n",
      "c:\\Users\\piotr\\PW\\lab\\public-policies\\policyComparison\\mair-policies-comparision\\topic_modeling\\model_optimizer.py:83: UserWarning: country - Greece has missing rows!\n",
      "  warnings.warn(f\"{column} - {column_val} has missing rows!\")\n"
     ]
    },
    {
     "name": "stdout",
     "output_type": "stream",
     "text": [
      "[t-SNE] Computing 25 nearest neighbors...\n",
      "[t-SNE] Indexed 26 samples in 0.000s...\n",
      "[t-SNE] Computed neighbors for 26 samples in 0.009s...\n",
      "[t-SNE] Computed conditional probabilities for sample 26 / 26\n",
      "[t-SNE] Mean sigma: 0.231719\n",
      "[t-SNE] KL divergence after 250 iterations with early exaggeration: 45.500134\n",
      "[t-SNE] KL divergence after 1000 iterations: 0.012732\n"
     ]
    },
    {
     "name": "stderr",
     "output_type": "stream",
     "text": [
      "c:\\Users\\piotr\\PW\\lab\\public-policies\\policyComparison\\mair-policies-comparision\\topic_modeling\\model_optimizer.py:83: UserWarning: country - Greece has missing rows!\n",
      "  warnings.warn(f\"{column} - {column_val} has missing rows!\")\n"
     ]
    }
   ],
   "source": [
    "save_path=\"./necp_results/\"\n",
    "lda_alpha = 100\n",
    "\n",
    "for dimension_number in range(len(DIMENSIONS)):\n",
    "    filter_dict = {'energy_union_dimension': DIMENSIONS[dimension_number]}\n",
    "    model_optimizer = ModelOptimizer(processed_df, filter_dict, COMMON_WORDS[DIMENSIONS[dimension_number]], (5,6), lda_alpha=lda_alpha)\n",
    "    save_data_for_app(model_optimizer, path=save_path, perplexity=20)\n",
    "\n",
    "    sentence_topic_analyser = SentenceTopicAnalyser(model_optimizer)\n",
    "    df_to_summarize = model_optimizer.data.loc[model_optimizer.data['subsection'].isin([\"National Objectives and Targets\", \"Policies and Measures\"])]\n",
    "    sentences_processed = sentence_topic_analyser.process_documents(df_to_summarize.groupby(\"country\")['tokens'].sum())\n",
    "    country_sentence_dict = dict(zip(df_to_summarize.country.unique(), sentences_processed))\n",
    "    json.dump(country_sentence_dict, open(save_path + f\"{lda_alpha}_{DIMENSIONS[dimension_number].replace(' ', '_')}_essentials.json\", 'w'), cls=NpEncoder)\n",
    "\n",
    "for paragraph_number in range(len(PARAGRAPHS)):\n",
    "    filter_dict = {'subsection': PARAGRAPHS[paragraph_number]}\n",
    "    model_optimizer = ModelOptimizer(processed_df, filter_dict, COMMON_WORDS[PARAGRAPHS[paragraph_number]], (5,6), lda_alpha=lda_alpha)\n",
    "    save_data_for_app(model_optimizer, path=save_path, perplexity=20)\n",
    "\n",
    "    sentence_topic_analyser = SentenceTopicAnalyser(model_optimizer)\n",
    "    df_to_summarize = model_optimizer.data\n",
    "    sentences_processed = sentence_topic_analyser.process_documents(df_to_summarize.groupby(\"country\")['tokens'].sum())\n",
    "    country_sentence_dict = dict(zip(df_to_summarize.country.unique(), sentences_processed))\n",
    "    json.dump(country_sentence_dict, open(save_path + f\"{lda_alpha}_{PARAGRAPHS[paragraph_number].replace(' ', '_')}_essentials.json\", 'w'), cls=NpEncoder)"
   ]
  }
 ],
 "metadata": {
  "kernelspec": {
   "display_name": "Python 3",
   "language": "python",
   "name": "python3"
  },
  "language_info": {
   "codemirror_mode": {
    "name": "ipython",
    "version": 3
   },
   "file_extension": ".py",
   "mimetype": "text/x-python",
   "name": "python",
   "nbconvert_exporter": "python",
   "pygments_lexer": "ipython3",
   "version": "3.11.1"
  },
  "orig_nbformat": 4,
  "vscode": {
   "interpreter": {
    "hash": "a1f2d31f3cfa242181f85bb58fcdf4b9b5b4fad4a1c371137165c825fb1a7558"
   }
  }
 },
 "nbformat": 4,
 "nbformat_minor": 2
}
