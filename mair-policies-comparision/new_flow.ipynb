{
 "cells": [
  {
   "cell_type": "code",
   "execution_count": 1,
   "metadata": {},
   "outputs": [
    {
     "name": "stderr",
     "output_type": "stream",
     "text": [
      "d:\\mi2\\p_comp_dev\\PolicyComparison\\.venv\\lib\\site-packages\\past\\builtins\\misc.py:45: DeprecationWarning: the imp module is deprecated in favour of importlib and slated for removal in Python 3.12; see the module's documentation for alternative uses\n",
      "  from imp import reload\n"
     ]
    }
   ],
   "source": [
    "from load_data import load_processed_data\n",
    "from topic_modeling.model_optimizer import ModelOptimizer, save_data_for_app\n",
    "from necp_reports import COMMON_WORDS, PARAGRAPHS, STOPWORDS, DIMENSIONS"
   ]
  },
  {
   "cell_type": "code",
   "execution_count": 2,
   "metadata": {},
   "outputs": [],
   "source": [
    "data_path = './necp_reports/'\n",
    "processed_df = load_processed_data('./necp_reports/', stop_words=STOPWORDS)"
   ]
  },
  {
   "cell_type": "code",
   "execution_count": 3,
   "metadata": {},
   "outputs": [
    {
     "name": "stderr",
     "output_type": "stream",
     "text": [
      "100%|██████████| 2/2 [00:06<00:00,  3.00s/it]\n",
      "100%|██████████| 2/2 [00:27<00:00, 13.58s/it]\n"
     ]
    }
   ],
   "source": [
    "dimension_number = 2\n",
    "filter_dict = {'energy_union_dimension':DIMENSIONS[dimension_number]}\n",
    "model_optimizer = ModelOptimizer(processed_df, filter_dict, COMMON_WORDS[DIMENSIONS[dimension_number]], (4,6))"
   ]
  },
  {
   "cell_type": "code",
   "execution_count": 4,
   "metadata": {},
   "outputs": [
    {
     "name": "stderr",
     "output_type": "stream",
     "text": [
      "d:\\mi2\\p_comp_dev\\PolicyComparison\\mair-policies-comparision\\topic_modeling\\model_optimizer.py:83: UserWarning: country - Greece has missing rows!\n",
      "  warnings.warn(f\"{column} - {column_val} has missing rows!\")\n",
      "d:\\mi2\\p_comp_dev\\PolicyComparison\\mair-policies-comparision\\topic_modeling\\model_optimizer.py:83: UserWarning: country - Greece has missing rows!\n",
      "  warnings.warn(f\"{column} - {column_val} has missing rows!\")\n",
      "d:\\mi2\\p_comp_dev\\PolicyComparison\\.venv\\lib\\site-packages\\sklearn\\manifold\\_t_sne.py:991: FutureWarning: The PCA initialization in TSNE will change to have the standard deviation of PC1 equal to 1e-4 in 1.2. This will ensure better convergence.\n",
      "  warnings.warn(\n"
     ]
    },
    {
     "name": "stdout",
     "output_type": "stream",
     "text": [
      "[t-SNE] Computing 25 nearest neighbors...\n",
      "[t-SNE] Indexed 26 samples in 0.000s...\n",
      "[t-SNE] Computed neighbors for 26 samples in 0.152s...\n",
      "[t-SNE] Computed conditional probabilities for sample 26 / 26\n",
      "[t-SNE] Mean sigma: 1125899906842624.000000\n",
      "[t-SNE] KL divergence after 250 iterations with early exaggeration: 22.727962\n",
      "[t-SNE] KL divergence after 1000 iterations: -4.131515\n"
     ]
    },
    {
     "name": "stderr",
     "output_type": "stream",
     "text": [
      "d:\\mi2\\p_comp_dev\\PolicyComparison\\mair-policies-comparision\\topic_modeling\\model_optimizer.py:83: UserWarning: country - Greece has missing rows!\n",
      "  warnings.warn(f\"{column} - {column_val} has missing rows!\")\n"
     ]
    }
   ],
   "source": [
    "save_data_for_app(model_optimizer)"
   ]
  },
  {
   "cell_type": "code",
   "execution_count": 5,
   "metadata": {},
   "outputs": [
    {
     "data": {
      "text/plain": [
       "<topic_modeling.model_optimizer.ModelOptimizer at 0x1ccdc504d00>"
      ]
     },
     "execution_count": 5,
     "metadata": {},
     "output_type": "execute_result"
    }
   ],
   "source": [
    "model_optimizer"
   ]
  }
 ],
 "metadata": {
  "kernelspec": {
   "display_name": "Python 3.10.2 ('.venv': poetry)",
   "language": "python",
   "name": "python3"
  },
  "language_info": {
   "codemirror_mode": {
    "name": "ipython",
    "version": 3
   },
   "file_extension": ".py",
   "mimetype": "text/x-python",
   "name": "python",
   "nbconvert_exporter": "python",
   "pygments_lexer": "ipython3",
   "version": "3.10.2"
  },
  "orig_nbformat": 4,
  "vscode": {
   "interpreter": {
    "hash": "d78fa3ad596e6a48c3855f534cf71c421b503fc36c2f935e2564e74285ea30d7"
   }
  }
 },
 "nbformat": 4,
 "nbformat_minor": 2
}
