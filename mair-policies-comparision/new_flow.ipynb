{
 "cells": [
  {
   "cell_type": "code",
   "execution_count": null,
   "metadata": {},
   "outputs": [],
   "source": [
    "from load_data.utils import process_all_documents\n",
    "from load_data import load_dataframe, process_text\n",
    "from plots import plot_counter_lemmas\n",
    "from plots.topics import interactive_exploration, plot_topics, plot_similarities\n",
    "from topic_modeling.utils import check_coherence_for_topics_num, tsne_dim_reduction, umap_dim_reduction, _topics_df\n",
    "from topic_modeling.model_optimizer import ModelOptimizer, save_data_for_app\n",
    "\n",
    "import pandas as pd\n",
    "from collections import Counter\n",
    "import pickle "
   ]
  },
  {
   "cell_type": "code",
   "execution_count": null,
   "metadata": {},
   "outputs": [],
   "source": [
    "necp_processed = pd.read_csv('./necp_reports/necp_processed.csv', index_col = 0)\n",
    "necp_processed.drop(['start_page', 'end_page', 'start_text', 'end_text'], axis = 1, inplace = True)\n",
    "necp_processed.drop(necp_processed[necp_processed.isnull()[\"text\"]].index, axis = 0, inplace = True)"
   ]
  },
  {
   "cell_type": "code",
   "execution_count": null,
   "metadata": {},
   "outputs": [],
   "source": [
    "countries_stop_words = ['Austria', 'Austrian', 'Belgium', 'Belgian', 'Bulgaria', 'Bulgarian', 'Czech', 'Cyprus', 'Cypriot', 'Germany', 'German',\n",
    "                      'Denmark', 'Danish', 'Estonia', 'Estonian', 'Croatia', 'Croatian', 'Finland', 'Finnish', 'France', 'French', 'Malta', 'Maltese',\n",
    "                      'Luxembourg', 'Lithuania', 'Lithuanian', 'Latvia', 'Latvian', 'Italy', 'Italian', 'Ireland', 'Irish', 'Hungary', 'Hungarian',\n",
    "                      'Greece', 'Greek', 'Spain', 'Spanish', 'Netherlands', 'Dutch', 'Poland', 'Polish', 'Portugal', 'Portuguese', 'Romania', 'Romanian',\n",
    "                      'Sweden', 'Swedish', 'Slovenia', 'Slovenian', 'Slovakia', 'Slovak']\n",
    "extra_stop_words =  ['energy', 'figure', 'table', 'plan', \"necp\", 'national', 'use', \"measure\", \"sector\", \"climate\",\n",
    "                     \"plan\", \"dimension\", \"integrated\", \"section\", \"republic\", \"measures\", \"policies\", \"target\", \"objective\", \"policy\",\n",
    "                     \"projection\", \"assessment\", \"federal\", \"government\"]\n",
    "stop_words = [c.lower() for c in countries_stop_words]\n",
    "stop_words.extend(extra_stop_words)"
   ]
  },
  {
   "cell_type": "code",
   "execution_count": 4,
   "metadata": {},
   "outputs": [],
   "source": [
    "df = pd.DataFrame(columns=[\"paragraph\", \"country\", \"text_path\", \"text\", \"tokens\", \"lemmas\"])\n",
    "df[\"country\"] = necp_processed[\"country\"]\n",
    "df[\"text\"] = necp_processed[\"text\"]\n",
    "df[\"paragraph\"] = [row[1][\"subsection\"] if row[1][\"subsection\"] in [\"Overview and Process for Establishing the Plan\", \"Impact Assessment of Planned Policies and Measures\"] else row[1][\"energy_union_dimension\"] for row in necp_processed.iterrows()]\n",
    "processed_df = process_text(df, spacy_model=\"en_core_web_md\",  stop_words=stop_words)"
   ]
  },
  {
   "cell_type": "code",
   "execution_count": null,
   "metadata": {},
   "outputs": [],
   "source": [
    "paragraphs = [\"Overview and Process for Establishing the Plan\",\n",
    "              \"Impact Assessment of Planned Policies and Measures\",\n",
    "              \"Decarbonisation\",\n",
    "              \"Energy efficiency\",\n",
    "              \"Energy security\",\n",
    "              \"Internal market\",\n",
    "              \"R&I and Competitiveness\"]\n",
    "common_words = {}\n",
    "\n",
    "filter_dict = {'paragraph':paragraphs[0]}\n",
    "filtered_lemmas = processed_df.loc[(processed_df[list(filter_dict)] == pd.Series(filter_dict)).all(axis=1)][\"lemmas\"]\n",
    "counter = Counter(filtered_lemmas.sum()).most_common(1)\n",
    "common_words[paragraphs[0]] = [word for word, cnt in counter]\n",
    "\n",
    "filter_dict = {'paragraph':paragraphs[1]}\n",
    "filtered_lemmas = processed_df.loc[(processed_df[list(filter_dict)] == pd.Series(filter_dict)).all(axis=1)][\"lemmas\"]\n",
    "counter = Counter(filtered_lemmas.sum()).most_common(3)\n",
    "common_words[paragraphs[1]] = [word for word, cnt in counter]\n",
    "\n",
    "filter_dict = {'paragraph':paragraphs[2]}\n",
    "filtered_lemmas = processed_df.loc[(processed_df[list(filter_dict)] == pd.Series(filter_dict)).all(axis=1)][\"lemmas\"]\n",
    "counter = Counter(filtered_lemmas.sum()).most_common(5)\n",
    "common_words[paragraphs[2]] = [word for word, cnt in counter]\n",
    "\n",
    "filter_dict = {'paragraph':paragraphs[3]}\n",
    "filtered_lemmas = processed_df.loc[(processed_df[list(filter_dict)] == pd.Series(filter_dict)).all(axis=1)][\"lemmas\"]\n",
    "counter = Counter(filtered_lemmas.sum()).most_common(3)\n",
    "common_words[paragraphs[3]] = [word for word, cnt in counter]\n",
    "\n",
    "filter_dict = {'paragraph':paragraphs[4]}\n",
    "filtered_lemmas = processed_df.loc[(processed_df[list(filter_dict)] == pd.Series(filter_dict)).all(axis=1)][\"lemmas\"]\n",
    "counter = Counter(filtered_lemmas.sum()).most_common(2)\n",
    "common_words[paragraphs[4]] = [word for word, cnt in counter]\n",
    "\n",
    "filter_dict = {'paragraph':paragraphs[5]}\n",
    "filtered_lemmas = processed_df.loc[(processed_df[list(filter_dict)] == pd.Series(filter_dict)).all(axis=1)][\"lemmas\"]\n",
    "counter = Counter(filtered_lemmas.sum()).most_common(4)\n",
    "common_words[paragraphs[5]] = [word for word, cnt in counter]\n",
    "\n",
    "filter_dict = {'paragraph':paragraphs[6]}\n",
    "filtered_lemmas = processed_df.loc[(processed_df[list(filter_dict)] == pd.Series(filter_dict)).all(axis=1)][\"lemmas\"]\n",
    "counter = Counter(filtered_lemmas.sum()).most_common(3)\n",
    "common_words[paragraphs[6]] = [word for word, cnt in counter]"
   ]
  },
  {
   "cell_type": "code",
   "execution_count": null,
   "metadata": {},
   "outputs": [],
   "source": [
    "filter_dict = {'paragraph':paragraphs[1]}\n",
    "model_optimizer = ModelOptimizer(processed_df, filter_dict, common_words[paragraphs[1]], (4,6))\n"
   ]
  },
  {
   "cell_type": "code",
   "execution_count": null,
   "metadata": {},
   "outputs": [],
   "source": [
    "save_data_for_app(model_optimizer)"
   ]
  }
 ],
 "metadata": {
  "kernelspec": {
   "display_name": "Python 3.10.2 ('.venv': poetry)",
   "language": "python",
   "name": "python3"
  },
  "language_info": {
   "codemirror_mode": {
    "name": "ipython",
    "version": 3
   },
   "file_extension": ".py",
   "mimetype": "text/x-python",
   "name": "python",
   "nbconvert_exporter": "python",
   "pygments_lexer": "ipython3",
   "version": "3.10.2"
  },
  "orig_nbformat": 4,
  "vscode": {
   "interpreter": {
    "hash": "d78fa3ad596e6a48c3855f534cf71c421b503fc36c2f935e2564e74285ea30d7"
   }
  }
 },
 "nbformat": 4,
 "nbformat_minor": 2
}
