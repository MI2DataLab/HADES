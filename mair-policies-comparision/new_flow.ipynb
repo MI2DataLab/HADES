{
 "cells": [
  {
   "cell_type": "code",
   "execution_count": 1,
   "metadata": {},
   "outputs": [],
   "source": [
    "from load_data import load_processed_data\n",
    "from topic_modeling.model_optimizer import ModelOptimizer, save_data_for_app\n",
    "from necp_reports import COMMON_WORDS, PARAGRAPHS, STOPWORDS, DIMENSIONS"
   ]
  },
  {
   "cell_type": "code",
   "execution_count": 2,
   "metadata": {},
   "outputs": [],
   "source": [
    "data_path = './necp_reports/'\n",
    "processed_df = load_processed_data('./necp_reports/', stop_words=STOPWORDS)"
   ]
  },
  {
   "cell_type": "code",
   "execution_count": 3,
   "metadata": {},
   "outputs": [
    {
     "name": "stderr",
     "output_type": "stream",
     "text": [
      "100%|██████████| 1/1 [00:25<00:00, 25.59s/it]\n",
      "100%|██████████| 1/1 [00:28<00:00, 28.01s/it]\n"
     ]
    }
   ],
   "source": [
    "dimension_number = 0\n",
    "filter_dict = {'energy_union_dimension':DIMENSIONS[dimension_number]}\n",
    "model_optimizer = ModelOptimizer(processed_df, filter_dict, COMMON_WORDS[DIMENSIONS[dimension_number]], (5,6), lda_alpha=100)"
   ]
  },
  {
   "cell_type": "code",
   "execution_count": 5,
   "metadata": {},
   "outputs": [
    {
     "name": "stderr",
     "output_type": "stream",
     "text": [
      "d:\\mi2\\p_comp_dev\\PolicyComparison\\mair-policies-comparision\\topic_modeling\\model_optimizer.py:83: UserWarning: country - Latvia has missing rows!\n",
      "  warnings.warn(f\"{column} - {column_val} has missing rows!\")\n",
      "d:\\mi2\\p_comp_dev\\PolicyComparison\\mair-policies-comparision\\topic_modeling\\model_optimizer.py:83: UserWarning: country - Greece has missing rows!\n",
      "  warnings.warn(f\"{column} - {column_val} has missing rows!\")\n",
      "d:\\mi2\\p_comp_dev\\PolicyComparison\\mair-policies-comparision\\topic_modeling\\model_optimizer.py:83: UserWarning: country - Latvia has missing rows!\n",
      "  warnings.warn(f\"{column} - {column_val} has missing rows!\")\n",
      "d:\\mi2\\p_comp_dev\\PolicyComparison\\mair-policies-comparision\\topic_modeling\\model_optimizer.py:83: UserWarning: country - Greece has missing rows!\n",
      "  warnings.warn(f\"{column} - {column_val} has missing rows!\")\n",
      "d:\\mi2\\p_comp_dev\\PolicyComparison\\.venv\\lib\\site-packages\\sklearn\\manifold\\_t_sne.py:991: FutureWarning: The PCA initialization in TSNE will change to have the standard deviation of PC1 equal to 1e-4 in 1.2. This will ensure better convergence.\n",
      "  warnings.warn(\n"
     ]
    },
    {
     "name": "stdout",
     "output_type": "stream",
     "text": [
      "[t-SNE] Computing 24 nearest neighbors...\n",
      "[t-SNE] Indexed 25 samples in 0.000s...\n",
      "[t-SNE] Computed neighbors for 25 samples in 0.010s...\n",
      "[t-SNE] Computed conditional probabilities for sample 25 / 25\n",
      "[t-SNE] Mean sigma: 1125899906842624.000000\n",
      "[t-SNE] KL divergence after 250 iterations with early exaggeration: 43.295494\n",
      "[t-SNE] KL divergence after 750 iterations: 1.207513\n"
     ]
    },
    {
     "name": "stderr",
     "output_type": "stream",
     "text": [
      "d:\\mi2\\p_comp_dev\\PolicyComparison\\mair-policies-comparision\\topic_modeling\\model_optimizer.py:83: UserWarning: country - Latvia has missing rows!\n",
      "  warnings.warn(f\"{column} - {column_val} has missing rows!\")\n",
      "d:\\mi2\\p_comp_dev\\PolicyComparison\\mair-policies-comparision\\topic_modeling\\model_optimizer.py:83: UserWarning: country - Greece has missing rows!\n",
      "  warnings.warn(f\"{column} - {column_val} has missing rows!\")\n"
     ]
    }
   ],
   "source": [
    "save_data_for_app(model_optimizer, path=\"D:/mi2/p_comp_dev/PolicyComparison/mair-policies-comparision/new_data\")"
   ]
  },
  {
   "cell_type": "code",
   "execution_count": 6,
   "metadata": {},
   "outputs": [],
   "source": [
    "from sentence_topic_analyser import SentenceTopicAnalyser"
   ]
  },
  {
   "cell_type": "code",
   "execution_count": 7,
   "metadata": {},
   "outputs": [],
   "source": [
    "sentence_topic_analyser = SentenceTopicAnalyser(model_optimizer)"
   ]
  },
  {
   "cell_type": "code",
   "execution_count": 8,
   "metadata": {},
   "outputs": [],
   "source": [
    "df_to_summarize = model_optimizer.data.loc[model_optimizer.data['subsection'].isin([\"National Objectives and Targets\", \"Policies and Measures\"])]\n",
    "sentences_processed = sentence_topic_analyser.process_documents(df_to_summarize.groupby(\"country\")['tokens'].sum())"
   ]
  },
  {
   "cell_type": "code",
   "execution_count": 9,
   "metadata": {},
   "outputs": [],
   "source": [
    "country_sentence_dict = dict(zip(df_to_summarize.country.unique(), sentences_processed))"
   ]
  },
  {
   "cell_type": "code",
   "execution_count": 20,
   "metadata": {},
   "outputs": [],
   "source": [
    "import json\n",
    "import numpy as np\n",
    "\n",
    "\n",
    "class NpEncoder(json.JSONEncoder):\n",
    "    def default(self, obj):\n",
    "        if isinstance(obj, np.integer):\n",
    "            return int(obj)\n",
    "        if isinstance(obj, np.floating):\n",
    "            # 👇️ alternatively use str()\n",
    "            return float(obj)\n",
    "        if isinstance(obj, np.ndarray):\n",
    "            return obj.tolist()\n",
    "        return json.JSONEncoder.default(self, obj)\n",
    "\n",
    "json.dump(country_sentence_dict, open(\"decarb_sentences.json\", 'w'), cls=NpEncoder)\n"
   ]
  }
 ],
 "metadata": {
  "kernelspec": {
   "display_name": "Python 3.10.2 ('.venv': poetry)",
   "language": "python",
   "name": "python3"
  },
  "language_info": {
   "codemirror_mode": {
    "name": "ipython",
    "version": 3
   },
   "file_extension": ".py",
   "mimetype": "text/x-python",
   "name": "python",
   "nbconvert_exporter": "python",
   "pygments_lexer": "ipython3",
   "version": "3.10.2"
  },
  "orig_nbformat": 4,
  "vscode": {
   "interpreter": {
    "hash": "d78fa3ad596e6a48c3855f534cf71c421b503fc36c2f935e2564e74285ea30d7"
   }
  }
 },
 "nbformat": 4,
 "nbformat_minor": 2
}
