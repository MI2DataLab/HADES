{
 "cells": [
  {
   "cell_type": "code",
   "execution_count": 12,
   "metadata": {},
   "outputs": [],
   "source": [
    "import pandas as pd\n",
    "\n",
    "from load_data.utils import process_all_documents, get_table_of_contents, get_paragraphs_df, read_paragraphs, read_pages_from_pdf\n",
    "from load_data import load_dataframe, process_text, load_processed_data\n",
    "from topic_modeling.model_optimizer import ModelOptimizer, save_data_for_app"
   ]
  },
  {
   "cell_type": "code",
   "execution_count": null,
   "metadata": {},
   "outputs": [],
   "source": [
    "paragraphs_names= {'Executive summary': ['Executive summary'],\n",
    " \"Recovery and resilience challenges: scene-setter\": ['Recovery and resilience challenges: scene-setter'],\n",
    " 'Objectives, structure and governance of the plan': ['Objectives, structure and governance of the plan'],\n",
    " \"Summary of the assessment of the plan\": ['Summary of the assessment of the plan'],\n",
    " \"End paragraph\": [\"References\", \"ANNEX\", \"Annex\"]}\n",
    "data_path = \"new_docs/\"\n",
    "results_path = \"new_data_results/\""
   ]
  },
  {
   "cell_type": "code",
   "execution_count": 3,
   "metadata": {},
   "outputs": [],
   "source": [
    "df = process_all_documents(data_path, paragraphs_names, data_path + 'txt_files/', \"End paragraph\", 'Table of contents', pages_shift = 1)\n",
    "df.to_csv(data_path + 'data.csv')\n"
   ]
  },
  {
   "cell_type": "code",
   "execution_count": 10,
   "metadata": {},
   "outputs": [],
   "source": [
    "processed_df = load_processed_data(data_path)"
   ]
  },
  {
   "cell_type": "code",
   "execution_count": 32,
   "metadata": {},
   "outputs": [
    {
     "name": "stderr",
     "output_type": "stream",
     "text": [
      "d:\\mi2\\new_docs\\PolicyComparison\\mair-policies-comparision\\topic_modeling\\model_optimizer.py:39: FutureWarning: The default dtype for empty Series will be 'object' instead of 'float64' in a future version. Specify a dtype explicitly to silence this warning.\n",
      "  self.data = df.loc[(df[list(column_filter)] == pd.Series(column_filter)).all(axis=1)]\n",
      "100%|██████████| 3/3 [01:13<00:00, 24.48s/it]\n",
      "100%|██████████| 3/3 [01:16<00:00, 25.60s/it]\n"
     ]
    }
   ],
   "source": [
    "model_optimizer = ModelOptimizer(processed_df, {}, topic_numbers_range=(3, 6), lda_alpha=100)"
   ]
  },
  {
   "cell_type": "code",
   "execution_count": 33,
   "metadata": {},
   "outputs": [
    {
     "name": "stderr",
     "output_type": "stream",
     "text": [
      "d:\\mi2\\new_docs\\PolicyComparison\\mair-policies-comparision\\topic_modeling\\model_optimizer.py:83: UserWarning: country - Germany has missing rows!\n",
      "  warnings.warn(f\"{column} - {column_val} has missing rows!\")\n",
      "d:\\mi2\\new_docs\\PolicyComparison\\mair-policies-comparision\\topic_modeling\\model_optimizer.py:83: UserWarning: country - Romania has missing rows!\n",
      "  warnings.warn(f\"{column} - {column_val} has missing rows!\")\n",
      "d:\\mi2\\new_docs\\PolicyComparison\\mair-policies-comparision\\topic_modeling\\model_optimizer.py:83: UserWarning: country - Germany has missing rows!\n",
      "  warnings.warn(f\"{column} - {column_val} has missing rows!\")\n",
      "d:\\mi2\\new_docs\\PolicyComparison\\mair-policies-comparision\\topic_modeling\\model_optimizer.py:83: UserWarning: country - Romania has missing rows!\n",
      "  warnings.warn(f\"{column} - {column_val} has missing rows!\")\n",
      "c:\\Users\\artur\\AppData\\Local\\pypoetry\\Cache\\virtualenvs\\mair-policies-comparision-7xeuXJvh-py3.10\\lib\\site-packages\\sklearn\\manifold\\_t_sne.py:991: FutureWarning: The PCA initialization in TSNE will change to have the standard deviation of PC1 equal to 1e-4 in 1.2. This will ensure better convergence.\n",
      "  warnings.warn(\n"
     ]
    },
    {
     "name": "stdout",
     "output_type": "stream",
     "text": [
      "[t-SNE] Computing 18 nearest neighbors...\n",
      "[t-SNE] Indexed 19 samples in 0.000s...\n",
      "[t-SNE] Computed neighbors for 19 samples in 0.008s...\n",
      "[t-SNE] Computed conditional probabilities for sample 19 / 19\n",
      "[t-SNE] Mean sigma: 1125899906842624.000000\n",
      "[t-SNE] KL divergence after 250 iterations with early exaggeration: 41.677284\n",
      "[t-SNE] KL divergence after 850 iterations: 0.394115\n"
     ]
    },
    {
     "name": "stderr",
     "output_type": "stream",
     "text": [
      "d:\\mi2\\new_docs\\PolicyComparison\\mair-policies-comparision\\topic_modeling\\model_optimizer.py:83: UserWarning: country - Germany has missing rows!\n",
      "  warnings.warn(f\"{column} - {column_val} has missing rows!\")\n",
      "d:\\mi2\\new_docs\\PolicyComparison\\mair-policies-comparision\\topic_modeling\\model_optimizer.py:83: UserWarning: country - Romania has missing rows!\n",
      "  warnings.warn(f\"{column} - {column_val} has missing rows!\")\n"
     ]
    }
   ],
   "source": [
    "save_data_for_app(model_optimizer, path=results_path)"
   ]
  },
  {
   "cell_type": "code",
   "execution_count": 34,
   "metadata": {},
   "outputs": [],
   "source": [
    "from sentence_topic_analyser import SentenceTopicAnalyser"
   ]
  },
  {
   "cell_type": "code",
   "execution_count": 35,
   "metadata": {},
   "outputs": [],
   "source": [
    "sentence_topic_analyser = SentenceTopicAnalyser(model_optimizer)\n",
    "sentences_processed = sentence_topic_analyser.process_documents(model_optimizer.data.groupby(\"country\")['tokens'].sum())\n",
    "country_sentence_dict = dict(zip(model_optimizer.data.country.unique(), sentences_processed))"
   ]
  },
  {
   "cell_type": "code",
   "execution_count": 38,
   "metadata": {},
   "outputs": [],
   "source": [
    "import json\n",
    "import numpy as np\n",
    "\n",
    "\n",
    "class NpEncoder(json.JSONEncoder):\n",
    "    def default(self, obj):\n",
    "        if isinstance(obj, np.integer):\n",
    "            return int(obj)\n",
    "        if isinstance(obj, np.floating):\n",
    "            return float(obj)\n",
    "        if isinstance(obj, np.ndarray):\n",
    "            return obj.tolist()\n",
    "        return json.JSONEncoder.default(self, obj)\n",
    "\n",
    "json.dump(country_sentence_dict, open(results_path + \"sentences.json\", 'w'), cls=NpEncoder)\n"
   ]
  }
 ],
 "metadata": {
  "kernelspec": {
   "display_name": "mair-policies-comparision-7xeuXJvh-py3.10",
   "language": "python",
   "name": "python3"
  },
  "language_info": {
   "codemirror_mode": {
    "name": "ipython",
    "version": 3
   },
   "file_extension": ".py",
   "mimetype": "text/x-python",
   "name": "python",
   "nbconvert_exporter": "python",
   "pygments_lexer": "ipython3",
   "version": "3.10.2"
  },
  "orig_nbformat": 4,
  "vscode": {
   "interpreter": {
    "hash": "a48a1cd18e95a696a6f0b22aed7c8f795fd82c5d5c51394e2c93db8d49480e1c"
   }
  }
 },
 "nbformat": 4,
 "nbformat_minor": 2
}
