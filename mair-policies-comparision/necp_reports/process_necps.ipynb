{
 "cells": [
  {
   "cell_type": "code",
   "execution_count": 21,
   "metadata": {},
   "outputs": [],
   "source": [
    "import pandas as pd"
   ]
  },
  {
   "cell_type": "code",
   "execution_count": 22,
   "metadata": {},
   "outputs": [],
   "source": [
    "necp_processed = pd.read_csv('necp_processed.csv', index_col = 0)"
   ]
  },
  {
   "cell_type": "code",
   "execution_count": 23,
   "metadata": {},
   "outputs": [],
   "source": [
    "necp_processed = necp_processed[['country', 'subsection', 'energy_union_dimension', 'text']]\n",
    "necp_processed = necp_processed[~necp_processed['text'].isnull()]\n",
    "necp_processed['text_path'] = None"
   ]
  },
  {
   "cell_type": "code",
   "execution_count": 24,
   "metadata": {},
   "outputs": [],
   "source": [
    "root = \"D:/mi2/PolicyComparison/mair-policies-comparision/necp/txt_files/\"\n",
    "\n",
    "for i, row in necp_processed.iterrows():\n",
    "    txt_destination = f\"{root}{row.country}_{row.subsection}_{row.energy_union_dimension}.txt\"\n",
    "    text_file = open(txt_destination, \"w+\", encoding=\"utf-8\")\n",
    "    n = text_file.write(str(row.text))\n",
    "    text_file.close()\n",
    "    row.text_path = txt_destination"
   ]
  },
  {
   "cell_type": "code",
   "execution_count": 27,
   "metadata": {},
   "outputs": [],
   "source": [
    "necp_processed[['country', 'subsection', 'energy_union_dimension', 'text_path']].to_csv(\"necp_data_processed.csv\")"
   ]
  }
 ],
 "metadata": {
  "kernelspec": {
   "display_name": "Python 3.9.0 64-bit",
   "language": "python",
   "name": "python3"
  },
  "language_info": {
   "codemirror_mode": {
    "name": "ipython",
    "version": 3
   },
   "file_extension": ".py",
   "mimetype": "text/x-python",
   "name": "python",
   "nbconvert_exporter": "python",
   "pygments_lexer": "ipython3",
   "version": "3.9.0"
  },
  "orig_nbformat": 4,
  "vscode": {
   "interpreter": {
    "hash": "e575dabbb64dc7f5025d7d6f0de0d01ec23e03fe956bfc6939cbdd77bc778b1b"
   }
  }
 },
 "nbformat": 4,
 "nbformat_minor": 2
}
