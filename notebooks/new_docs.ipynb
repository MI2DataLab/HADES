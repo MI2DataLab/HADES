{
 "cells": [
  {
   "cell_type": "code",
   "execution_count": 1,
   "metadata": {},
   "outputs": [
    {
     "data": {
      "text/plain": "<spacy.lang.en.English at 0x7f8fc1f9fa90>"
     },
     "execution_count": 1,
     "metadata": {},
     "output_type": "execute_result"
    }
   ],
   "source": [
    "import pandas as pd\n",
    "\n",
    "from load_data.utils import process_all_documents, get_table_of_contents, get_paragraphs_df, read_paragraphs, read_pages_from_pdf\n",
    "from load_data import load_dataframe, process_text, load_processed_data\n",
    "from topic_modeling.model_optimizer import ModelOptimizer, save_data_for_app\n",
    "import spacy\n",
    "spacy.load('en_core_web_sm')"
   ]
  },
  {
   "cell_type": "code",
   "execution_count": 2,
   "metadata": {},
   "outputs": [],
   "source": [
    "paragraphs_names= {'Executive summary': ['Executive summary'],\n",
    " \"Recovery and resilience challenges: scene-setter\": ['Recovery and resilience challenges: scene-setter'],\n",
    " 'Objectives, structure and governance of the plan': ['Objectives, structure and governance of the plan'],\n",
    " \"Summary of the assessment of the plan\": ['Summary of the assessment of the plan'],\n",
    " \"End paragraph\": [\"References\", \"ANNEX\", \"Annex\"]}\n",
    "data_path = \"../data/Analysis of the recovery and resiliance plans/\"\n",
    "results_path = \"../data/Analysis of the recovery and resiliance plans/results/\""
   ]
  },
  {
   "cell_type": "code",
   "execution_count": 3,
   "metadata": {},
   "outputs": [
    {
     "name": "stdout",
     "output_type": "stream",
     "text": [
      "Finland.pdf\n",
      "Cyprus.pdf\n",
      "Romania.pdf\n",
      "Hungary.pdf\n",
      "Croatia.pdf\n",
      "Ireland.pdf\n",
      "Belgium.pdf\n",
      "Lithuania.pdf\n",
      "Denmark.pdf\n",
      "Spain.pdf\n",
      "Slovakia.pdf\n",
      "Greece.pdf\n",
      "Malta.pdf\n",
      "Germany.pdf\n",
      "Portugal.pdf\n",
      "Austria.pdf\n",
      "Luxembourg.pdf\n",
      "France.pdf\n",
      "Poland.pdf\n",
      "Estonia.pdf\n",
      "Italy.pdf\n",
      "Netherlands.pdf\n",
      "Latvia.pdf\n",
      "Sweden.pdf\n",
      "Bulgaria.pdf\n",
      "Slovenia.pdf\n",
      "Czechia.pdf\n"
     ]
    }
   ],
   "source": [
    "df = process_all_documents(data_path, paragraphs_names, data_path + 'txt_files/', \"End paragraph\", 'Table of contents', pages_shift = 1)\n",
    "df.to_csv(data_path + 'data.csv')"
   ]
  },
  {
   "cell_type": "code",
   "execution_count": 4,
   "metadata": {},
   "outputs": [
    {
     "name": "stdout",
     "output_type": "stream",
     "text": [
      "../data/Analysis of the recovery and resiliance plans/data.csv\n",
      "Processing data\n",
      "Processing text\n"
     ]
    }
   ],
   "source": [
    "processed_df = load_processed_data(data_path, spacy_model='en_core_web_sm')"
   ]
  },
  {
   "cell_type": "code",
   "execution_count": 5,
   "outputs": [
    {
     "data": {
      "text/plain": "                                           paragraph   country  \\\n0                                  Executive summary   Finland   \n1   Recovery and resilience challenges: scene-setter   Finland   \n2   Objectives, structure and governance of the plan   Finland   \n3              Summary of the assessment of the plan   Finland   \n4                                  Executive summary    Cyprus   \n..                                               ...       ...   \n76             Summary of the assessment of the plan    Sweden   \n77                                 Executive summary  Slovenia   \n78  Recovery and resilience challenges: scene-setter  Slovenia   \n79  Objectives, structure and governance of the plan  Slovenia   \n80             Summary of the assessment of the plan  Slovenia   \n\n                                            text_path  \\\n0   ../data/Analysis of the recovery and resilianc...   \n1   ../data/Analysis of the recovery and resilianc...   \n2   ../data/Analysis of the recovery and resilianc...   \n3   ../data/Analysis of the recovery and resilianc...   \n4   ../data/Analysis of the recovery and resilianc...   \n..                                                ...   \n76  ../data/Analysis of the recovery and resilianc...   \n77  ../data/Analysis of the recovery and resilianc...   \n78  ../data/Analysis of the recovery and resilianc...   \n79  ../data/Analysis of the recovery and resilianc...   \n80  ../data/Analysis of the recovery and resilianc...   \n\n                                                 text  \\\n0   1. EXECUTIVE SUMMARY The COVID19 pandemic has ...   \n1   Finland” and under “Accelerating key technolog...   \n2    18 Despite the strong digital performance, pr...   \n3    24 support job transitions, address labour ma...   \n4   1. EXECUTIVE SUMMARY The COVID19 pandemic and ...   \n..                                                ...   \n76   20 4. SUMMARY OF THE ASSESS MENT OF THE PLAN ...   \n77  1. EXECUTIVE SUMMARY Slovenia’s economy was se...   \n78  flagship areas, withparticular focus on Power ...   \n79   19 Green Transition The performance on SDGs r...   \n80   25 The plan outlinescommunication strategy to...   \n\n                                                  doc  \\\n0   (1, ., EXECUTIVE, SUMMARY, The, COVID19, pande...   \n1   (Finland, ”, and, under, “, Accelerating, key,...   \n2   ( , 18, Despite, the, strong, digital, perform...   \n3   ( , 24, support, job, transitions, ,, address,...   \n4   (1, ., EXECUTIVE, SUMMARY, The, COVID19, pande...   \n..                                                ...   \n76  ( , 20, 4, ., SUMMARY, OF, THE, ASSESS, MENT, ...   \n77  (1, ., EXECUTIVE, SUMMARY, Slovenia, ’s, econo...   \n78  (flagship, areas, ,, withparticular, focus, on...   \n79  ( , 19, Green, Transition, The, performance, o...   \n80  ( , 25, The, plan, outlinescommunication, stra...   \n\n                                               tokens  \\\n0   [EXECUTIVE, SUMMARY, pandemic, hadmajor, impac...   \n1   [Finland, Accelerating, key, technologies, mic...   \n2   [Despite, strong, digital, performance, produc...   \n3   [support, job, transitions, address, labour, m...   \n4   [EXECUTIVE, SUMMARY, pandemic, related, lockdo...   \n..                                                ...   \n76  [SUMMARY, ASSESS, MENT, PLAN, Comprehensive, a...   \n77  [EXECUTIVE, SUMMARY, Slovenia, economy, severe...   \n78  [flagship, areas, withparticular, focus, Power...   \n79  [Green, Transition, performance, SDGs, related...   \n80  [plan, outlinescommunication, strategy, raise,...   \n\n                                               lemmas  \n0   [executive, summary, pandemic, hadmajor, impac...  \n1   [finland, accelerate, key, technology, microel...  \n2   [despite, strong, digital, performance, produc...  \n3   [support, job, transition, address, labour, ma...  \n4   [executive, summary, pandemic, related, lockdo...  \n..                                                ...  \n76  [summary, assess, ment, plan, comprehensive, a...  \n77  [executive, summary, slovenia, economy, severe...  \n78  [flagship, area, withparticular, focus, power,...  \n79  [green, transition, performance, sdg, relate, ...  \n80  [plan, outlinescommunication, strategy, raise,...  \n\n[81 rows x 7 columns]",
      "text/html": "<div>\n<style scoped>\n    .dataframe tbody tr th:only-of-type {\n        vertical-align: middle;\n    }\n\n    .dataframe tbody tr th {\n        vertical-align: top;\n    }\n\n    .dataframe thead th {\n        text-align: right;\n    }\n</style>\n<table border=\"1\" class=\"dataframe\">\n  <thead>\n    <tr style=\"text-align: right;\">\n      <th></th>\n      <th>paragraph</th>\n      <th>country</th>\n      <th>text_path</th>\n      <th>text</th>\n      <th>doc</th>\n      <th>tokens</th>\n      <th>lemmas</th>\n    </tr>\n  </thead>\n  <tbody>\n    <tr>\n      <th>0</th>\n      <td>Executive summary</td>\n      <td>Finland</td>\n      <td>../data/Analysis of the recovery and resilianc...</td>\n      <td>1. EXECUTIVE SUMMARY The COVID19 pandemic has ...</td>\n      <td>(1, ., EXECUTIVE, SUMMARY, The, COVID19, pande...</td>\n      <td>[EXECUTIVE, SUMMARY, pandemic, hadmajor, impac...</td>\n      <td>[executive, summary, pandemic, hadmajor, impac...</td>\n    </tr>\n    <tr>\n      <th>1</th>\n      <td>Recovery and resilience challenges: scene-setter</td>\n      <td>Finland</td>\n      <td>../data/Analysis of the recovery and resilianc...</td>\n      <td>Finland” and under “Accelerating key technolog...</td>\n      <td>(Finland, ”, and, under, “, Accelerating, key,...</td>\n      <td>[Finland, Accelerating, key, technologies, mic...</td>\n      <td>[finland, accelerate, key, technology, microel...</td>\n    </tr>\n    <tr>\n      <th>2</th>\n      <td>Objectives, structure and governance of the plan</td>\n      <td>Finland</td>\n      <td>../data/Analysis of the recovery and resilianc...</td>\n      <td>18 Despite the strong digital performance, pr...</td>\n      <td>( , 18, Despite, the, strong, digital, perform...</td>\n      <td>[Despite, strong, digital, performance, produc...</td>\n      <td>[despite, strong, digital, performance, produc...</td>\n    </tr>\n    <tr>\n      <th>3</th>\n      <td>Summary of the assessment of the plan</td>\n      <td>Finland</td>\n      <td>../data/Analysis of the recovery and resilianc...</td>\n      <td>24 support job transitions, address labour ma...</td>\n      <td>( , 24, support, job, transitions, ,, address,...</td>\n      <td>[support, job, transitions, address, labour, m...</td>\n      <td>[support, job, transition, address, labour, ma...</td>\n    </tr>\n    <tr>\n      <th>4</th>\n      <td>Executive summary</td>\n      <td>Cyprus</td>\n      <td>../data/Analysis of the recovery and resilianc...</td>\n      <td>1. EXECUTIVE SUMMARY The COVID19 pandemic and ...</td>\n      <td>(1, ., EXECUTIVE, SUMMARY, The, COVID19, pande...</td>\n      <td>[EXECUTIVE, SUMMARY, pandemic, related, lockdo...</td>\n      <td>[executive, summary, pandemic, related, lockdo...</td>\n    </tr>\n    <tr>\n      <th>...</th>\n      <td>...</td>\n      <td>...</td>\n      <td>...</td>\n      <td>...</td>\n      <td>...</td>\n      <td>...</td>\n      <td>...</td>\n    </tr>\n    <tr>\n      <th>76</th>\n      <td>Summary of the assessment of the plan</td>\n      <td>Sweden</td>\n      <td>../data/Analysis of the recovery and resilianc...</td>\n      <td>20 4. SUMMARY OF THE ASSESS MENT OF THE PLAN ...</td>\n      <td>( , 20, 4, ., SUMMARY, OF, THE, ASSESS, MENT, ...</td>\n      <td>[SUMMARY, ASSESS, MENT, PLAN, Comprehensive, a...</td>\n      <td>[summary, assess, ment, plan, comprehensive, a...</td>\n    </tr>\n    <tr>\n      <th>77</th>\n      <td>Executive summary</td>\n      <td>Slovenia</td>\n      <td>../data/Analysis of the recovery and resilianc...</td>\n      <td>1. EXECUTIVE SUMMARY Slovenia’s economy was se...</td>\n      <td>(1, ., EXECUTIVE, SUMMARY, Slovenia, ’s, econo...</td>\n      <td>[EXECUTIVE, SUMMARY, Slovenia, economy, severe...</td>\n      <td>[executive, summary, slovenia, economy, severe...</td>\n    </tr>\n    <tr>\n      <th>78</th>\n      <td>Recovery and resilience challenges: scene-setter</td>\n      <td>Slovenia</td>\n      <td>../data/Analysis of the recovery and resilianc...</td>\n      <td>flagship areas, withparticular focus on Power ...</td>\n      <td>(flagship, areas, ,, withparticular, focus, on...</td>\n      <td>[flagship, areas, withparticular, focus, Power...</td>\n      <td>[flagship, area, withparticular, focus, power,...</td>\n    </tr>\n    <tr>\n      <th>79</th>\n      <td>Objectives, structure and governance of the plan</td>\n      <td>Slovenia</td>\n      <td>../data/Analysis of the recovery and resilianc...</td>\n      <td>19 Green Transition The performance on SDGs r...</td>\n      <td>( , 19, Green, Transition, The, performance, o...</td>\n      <td>[Green, Transition, performance, SDGs, related...</td>\n      <td>[green, transition, performance, sdg, relate, ...</td>\n    </tr>\n    <tr>\n      <th>80</th>\n      <td>Summary of the assessment of the plan</td>\n      <td>Slovenia</td>\n      <td>../data/Analysis of the recovery and resilianc...</td>\n      <td>25 The plan outlinescommunication strategy to...</td>\n      <td>( , 25, The, plan, outlinescommunication, stra...</td>\n      <td>[plan, outlinescommunication, strategy, raise,...</td>\n      <td>[plan, outlinescommunication, strategy, raise,...</td>\n    </tr>\n  </tbody>\n</table>\n<p>81 rows × 7 columns</p>\n</div>"
     },
     "execution_count": 5,
     "metadata": {},
     "output_type": "execute_result"
    }
   ],
   "source": [
    "processed_df"
   ],
   "metadata": {
    "collapsed": false
   }
  },
  {
   "cell_type": "code",
   "execution_count": 6,
   "metadata": {},
   "outputs": [
    {
     "name": "stderr",
     "output_type": "stream",
     "text": [
      "/home/emilia/PycharmProjects/PolicyComparison/mair-policies-comparision/topic_modeling/model_optimizer.py:39: FutureWarning: The default dtype for empty Series will be 'object' instead of 'float64' in a future version. Specify a dtype explicitly to silence this warning.\n",
      "  self.data = df.loc[(df[list(column_filter)] == pd.Series(column_filter)).all(axis=1)]\n",
      "100%|██████████| 3/3 [00:19<00:00,  6.44s/it]\n",
      "100%|██████████| 3/3 [00:22<00:00,  7.45s/it]\n"
     ]
    }
   ],
   "source": [
    "model_optimizer = ModelOptimizer(processed_df, {}, topic_numbers_range=(3, 6), lda_alpha=100)"
   ]
  },
  {
   "cell_type": "code",
   "execution_count": 7,
   "metadata": {},
   "outputs": [
    {
     "name": "stderr",
     "output_type": "stream",
     "text": [
      "/home/emilia/PycharmProjects/PolicyComparison/mair-policies-comparision/topic_modeling/model_optimizer.py:83: UserWarning: country - Romania has missing rows!\n",
      "  warnings.warn(f\"{column} - {column_val} has missing rows!\")\n",
      "/home/emilia/PycharmProjects/PolicyComparison/mair-policies-comparision/topic_modeling/model_optimizer.py:83: UserWarning: country - Germany has missing rows!\n",
      "  warnings.warn(f\"{column} - {column_val} has missing rows!\")\n",
      "/home/emilia/PycharmProjects/PolicyComparison/mair-policies-comparision/topic_modeling/model_optimizer.py:83: UserWarning: country - Romania has missing rows!\n",
      "  warnings.warn(f\"{column} - {column_val} has missing rows!\")\n",
      "/home/emilia/PycharmProjects/PolicyComparison/mair-policies-comparision/topic_modeling/model_optimizer.py:83: UserWarning: country - Germany has missing rows!\n",
      "  warnings.warn(f\"{column} - {column_val} has missing rows!\")\n"
     ]
    },
    {
     "name": "stdout",
     "output_type": "stream",
     "text": [
      "[t-SNE] Computing 18 nearest neighbors...\n",
      "[t-SNE] Indexed 19 samples in 0.000s...\n",
      "[t-SNE] Computed neighbors for 19 samples in 0.206s...\n",
      "[t-SNE] Computed conditional probabilities for sample 19 / 19\n",
      "[t-SNE] Mean sigma: 0.426100\n",
      "[t-SNE] KL divergence after 250 iterations with early exaggeration: 45.590034\n",
      "[t-SNE] KL divergence after 1000 iterations: 0.100911\n"
     ]
    },
    {
     "name": "stderr",
     "output_type": "stream",
     "text": [
      "/home/emilia/PycharmProjects/PolicyComparison/mair-policies-comparision/topic_modeling/model_optimizer.py:83: UserWarning: country - Romania has missing rows!\n",
      "  warnings.warn(f\"{column} - {column_val} has missing rows!\")\n",
      "/home/emilia/PycharmProjects/PolicyComparison/mair-policies-comparision/topic_modeling/model_optimizer.py:83: UserWarning: country - Germany has missing rows!\n",
      "  warnings.warn(f\"{column} - {column_val} has missing rows!\")\n"
     ]
    }
   ],
   "source": [
    "save_data_for_app(model_optimizer, path=results_path, perplexity=10)"
   ]
  },
  {
   "cell_type": "code",
   "execution_count": 9,
   "metadata": {},
   "outputs": [],
   "source": [
    "from src.topic_analysis.sentence_topic_analyser import SentenceTopicAnalyser"
   ]
  },
  {
   "cell_type": "code",
   "execution_count": 10,
   "metadata": {},
   "outputs": [],
   "source": [
    "sentence_topic_analyser = SentenceTopicAnalyser(model_optimizer)\n",
    "sentences_processed = sentence_topic_analyser.process_documents(model_optimizer.data.groupby(\"country\")['tokens'].sum())\n",
    "country_sentence_dict = dict(zip(model_optimizer.data.country.unique(), sentences_processed))"
   ]
  },
  {
   "cell_type": "code",
   "execution_count": 12,
   "metadata": {},
   "outputs": [],
   "source": [
    "import json\n",
    "import numpy as np\n",
    "\n",
    "\n",
    "class NpEncoder(json.JSONEncoder):\n",
    "    def default(self, obj):\n",
    "        if isinstance(obj, np.integer):\n",
    "            return int(obj)\n",
    "        if isinstance(obj, np.floating):\n",
    "            return float(obj)\n",
    "        if isinstance(obj, np.ndarray):\n",
    "            return obj.tolist()\n",
    "        return json.JSONEncoder.default(self, obj)\n",
    "\n",
    "json.dump(country_sentence_dict, open(results_path + \"sentences.json\", 'w'), cls=NpEncoder)\n"
   ]
  },
  {
   "cell_type": "code",
   "execution_count": null,
   "outputs": [],
   "source": [],
   "metadata": {
    "collapsed": false
   }
  }
 ],
 "metadata": {
  "kernelspec": {
   "display_name": "mair-policies-comparision-7xeuXJvh-py3.10",
   "language": "python",
   "name": "python3"
  },
  "language_info": {
   "codemirror_mode": {
    "name": "ipython",
    "version": 3
   },
   "file_extension": ".py",
   "mimetype": "text/x-python",
   "name": "python",
   "nbconvert_exporter": "python",
   "pygments_lexer": "ipython3",
   "version": "3.10.2"
  },
  "orig_nbformat": 4,
  "vscode": {
   "interpreter": {
    "hash": "a48a1cd18e95a696a6f0b22aed7c8f795fd82c5d5c51394e2c93db8d49480e1c"
   }
  }
 },
 "nbformat": 4,
 "nbformat_minor": 2
}
