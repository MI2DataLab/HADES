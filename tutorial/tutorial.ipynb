{
 "cells": [
  {
   "cell_type": "markdown",
   "metadata": {},
   "source": [
    "# Hands-on tutorial of the HADES: Homologous Automated Document Exploration and Summarization\n",
    "## "
   ]
  },
  {
   "cell_type": "markdown",
   "metadata": {},
   "source": [
    "`HADES` is a Python package for comparing similarly structured documents. It is designed to streamline the work of professionals dealing with large volumes of documents, such as policy documents, legal acts, and scientific papers. The tool employs a multi-step pipeline that begins with processing PDF documents using topic modeling, summarization, and analysis of the most important words for each topic. The process concludes with an interactive web app with visualizations that facilitate the comparison of the documents."
   ]
  },
  {
   "cell_type": "markdown",
   "metadata": {},
   "source": [
    "## Installation and Imports "
   ]
  },
  {
   "cell_type": "markdown",
   "metadata": {},
   "source": [
    "In order to start using HADES, we need to install the package and download `en_core_web_sm` spacy model which is necessary for text processing."
   ]
  },
  {
   "cell_type": "code",
   "execution_count": null,
   "metadata": {},
   "outputs": [],
   "source": [
    "! pip install -U hades-nlp\n",
    "! python -m spacy download en_core_web_sm"
   ]
  },
  {
   "cell_type": "markdown",
   "metadata": {},
   "source": [
    "Next, let's download sample data to work on."
   ]
  },
  {
   "cell_type": "code",
   "execution_count": null,
   "metadata": {},
   "outputs": [],
   "source": [
    "## to do download"
   ]
  },
  {
   "cell_type": "markdown",
   "metadata": {},
   "source": [
    "When we have the data prepared, we should import the necessary functions."
   ]
  },
  {
   "cell_type": "code",
   "execution_count": 1,
   "metadata": {},
   "outputs": [
    {
     "name": "stderr",
     "output_type": "stream",
     "text": [
      "Some weights of the model checkpoint at bert-large-uncased were not used when initializing BertModel: ['cls.predictions.transform.LayerNorm.bias', 'cls.predictions.decoder.weight', 'cls.seq_relationship.bias', 'cls.seq_relationship.weight', 'cls.predictions.bias', 'cls.predictions.transform.LayerNorm.weight', 'cls.predictions.transform.dense.weight', 'cls.predictions.transform.dense.bias']\n",
      "- This IS expected if you are initializing BertModel from the checkpoint of a model trained on another task or with another architecture (e.g. initializing a BertForSequenceClassification model from a BertForPreTraining model).\n",
      "- This IS NOT expected if you are initializing BertModel from the checkpoint of a model that you expect to be exactly identical (initializing a BertForSequenceClassification model from a BertForSequenceClassification model).\n",
      "C:\\Users\\piotr\\AppData\\Local\\Packages\\PythonSoftwareFoundation.Python.3.9_qbz5n2kfra8p0\\LocalCache\\local-packages\\Python39\\site-packages\\seaborn\\rcmod.py:82: DeprecationWarning: distutils Version classes are deprecated. Use packaging.version instead.\n",
      "  if LooseVersion(mpl.__version__) >= \"3.0\":\n",
      "C:\\Users\\piotr\\AppData\\Local\\Packages\\PythonSoftwareFoundation.Python.3.9_qbz5n2kfra8p0\\LocalCache\\local-packages\\Python39\\site-packages\\setuptools\\_distutils\\version.py:345: DeprecationWarning: distutils Version classes are deprecated. Use packaging.version instead.\n",
      "  other = LooseVersion(other)\n"
     ]
    }
   ],
   "source": [
    "from hades.data_loading import load_processed_data\n",
    "from hades.topic_modeling import ModelOptimizer, save_data_for_app, set_openai_key"
   ]
  },
  {
   "cell_type": "markdown",
   "metadata": {},
   "source": [
    "If some message appears, we can ignore it."
   ]
  },
  {
   "cell_type": "markdown",
   "metadata": {},
   "source": [
    "## Data preparation"
   ]
  },
  {
   "cell_type": "markdown",
   "metadata": {},
   "source": [
    "Before loading the data to Python, we have to set paragraph names of the downloaded documents, that we want to analyse."
   ]
  },
  {
   "cell_type": "code",
   "execution_count": 2,
   "metadata": {},
   "outputs": [],
   "source": [
    "PARAGRAPHS = [\n",
    "    \"Executive summary\",\n",
    "    \"Recovery and resilience challenges: scene-setter\",\n",
    "    \"Objectives, structure and governance of the plan\",\n",
    "    \"Summary of the assessment of the plan\",\n",
    "]"
   ]
  },
  {
   "cell_type": "markdown",
   "metadata": {},
   "source": [
    "Next, we define general stopwords that are often found in documents, but should not be taken into account in further analysis."
   ]
  },
  {
   "cell_type": "code",
   "execution_count": 3,
   "metadata": {},
   "outputs": [],
   "source": [
    "STOPWORDS = [\n",
    "    \"austria\", \"austrian\", \"belgium\", \"belgian\", \"bulgaria\", \"bulgarian\", \"czech\",\n",
    "    \"cyprus\", \"cypriot\", \"germany\", \"german\", \"denmark\", \"danish\", \"estonia\",\n",
    "    \"estonian\", \"croatia\", \"croatian\", \"finland\", \"finnish\", \"france\", \"french\",\n",
    "    \"malta\", \"maltese\", \"luxembourg\", \"lithuania\", \"lithuanian\", \"latvia\", \"latvian\",\n",
    "    \"italy\", \"italian\", \"ireland\", \"irish\", \"hungary\", \"hungarian\", \"greece\",\n",
    "    \"greek\", \"spain\", \"spanish\", \"netherlands\", \"dutch\", \"poland\", \"polish\", \"portugal\",\n",
    "    \"portuguese\", \"romania\", \"romanian\", \"sweden\", \"swedish\", \"slovenia\", \"slovenian\",\n",
    "    \"slovakia\", \"slovak\",\n",
    "]"
   ]
  },
  {
   "cell_type": "markdown",
   "metadata": {},
   "source": [
    "We proceed to load the data to Python using `load_processed_data`. This function should be used if data is already in the default format. That means that we have prepared a *data.csv* file, which contains at least:\n",
    "- column with selected sections (here: 'paragraph')\n",
    "- id_column with a unique identifier of each document (here: 'country')\n",
    "- text_path column with relative paths to .txt files with paragraphs text content (here: 'text_path')"
   ]
  },
  {
   "cell_type": "code",
   "execution_count": 4,
   "metadata": {},
   "outputs": [
    {
     "name": "stdout",
     "output_type": "stream",
     "text": [
      "Loading processed data\n",
      "Processing text\n"
     ]
    }
   ],
   "source": [
    "processed_df = load_processed_data(\n",
    "    data_path = './resilience_reports/',\n",
    "    text_path_col = \"text_path\",\n",
    "    stop_words = STOPWORDS,\n",
    "    spacy_model  = \"en_core_web_sm\",\n",
    "    processed_filename = \"data_processed.joblib\",\n",
    "    data_filename = \"data.csv\",\n",
    "    id_column = 'country',\n",
    "    flattened_by_col = None,\n",
    ")"
   ]
  },
  {
   "cell_type": "markdown",
   "metadata": {},
   "source": [
    "`processed_filename` parameter is useful when we already processed the data. After the first processing, the outcome is saved in *data_processed.joblib* so it can be utilized later."
   ]
  },
  {
   "cell_type": "markdown",
   "metadata": {},
   "source": [
    "To understand the usage of the `flattened_by_col` parameter we have to imagine the situation when we are interested in analysing subsections, which are repeated multiple times among many paragraphs. For instance, let's assume that our documents have the following structure:\n",
    "1. Paragraph about Law 1\n",
    "    - subsection about positive impacts\n",
    "    - subsection about negative impacts\n",
    "2. Paragraph about Law 2\n",
    "    - subsection about positive impacts\n",
    "    - subsection about negative impacts\n",
    "    \n",
    "If we wanted to compare the subsections about positive impacts with the subsections about negative impacts we would need to add an additional 'subsection' column to *data.csv* and set parameter `flattened_by_col` = 'subsection'. Note that in that case 'text_path' column would contain a path to a .txt file containing the text from a single subsection."
   ]
  },
  {
   "cell_type": "markdown",
   "metadata": {},
   "source": [
    "For better model performance you can define more stopwords by analyzing individual paragraphs. The function `plot_counter_lemmas`, which visualizes the most repeated words, can come in handy here."
   ]
  },
  {
   "cell_type": "markdown",
   "metadata": {},
   "source": [
    "Instance for \"Recovery and resilience challenges: scene-setter\" paragraph:"
   ]
  },
  {
   "cell_type": "code",
   "execution_count": 6,
   "metadata": {},
   "outputs": [
    {
     "data": {
      "image/png": "[encoded data removed]",
      "text/plain": [
       "<Figure size 1440x936 with 1 Axes>"
      ]
     },
     "metadata": {
      "needs_background": "light"
     },
     "output_type": "display_data"
    }
   ],
   "source": [
    "from hades.plots.simple_plots import plot_counter_lemmas\n",
    "\n",
    "plot_counter_lemmas(processed_df, {'paragraph':'Recovery and resilience challenges: scene-setter'})"
   ]
  },
  {
   "cell_type": "code",
   "execution_count": 7,
   "metadata": {},
   "outputs": [],
   "source": [
    "PARAGRAPH_STOPWORDS = {\n",
    "    \"Executive summary\": [\"plan\", \"measure\", \"investment\", \"support\", \"expect\", \"reform\", \"include\", \"digital\"],\n",
    "    \"Recovery and resilience challenges: scene-setter\": [\"plan\", \"eu\", \"investment\", \"measure\", \"increase\", \"digital\"],\n",
    "    \"Objectives, structure and governance of the plan\": [\"plan\", \"component\", \"measure\", \"include\", \"investment\", \"support\", \"reform\"],\n",
    "    \"Summary of the assessment of the plan\": [\"plan\", \"measure\", \"investment\", \"component\", \"include\", \"support\", \"digital\", \"reform\", \"expect\"],\n",
    "}"
   ]
  },
  {
   "cell_type": "markdown",
   "metadata": {},
   "source": [
    "## Creating models"
   ]
  },
  {
   "cell_type": "markdown",
   "metadata": {},
   "source": [
    "After data preparation, we can start to build our models. The `ModelOptimizer` class is responsible for selecting the optimal models."
   ]
  },
  {
   "cell_type": "code",
   "execution_count": 8,
   "metadata": {},
   "outputs": [
    {
     "name": "stderr",
     "output_type": "stream",
     "text": [
      "100%|██████████| 3/3 [00:06<00:00,  2.15s/it]\n",
      "100%|██████████| 3/3 [00:10<00:00,  3.35s/it]\n",
      "100%|██████████| 3/3 [00:08<00:00,  2.98s/it]\n",
      "100%|██████████| 3/3 [00:11<00:00,  3.67s/it]\n",
      "100%|██████████| 3/3 [00:06<00:00,  2.19s/it]\n",
      "100%|██████████| 3/3 [00:08<00:00,  2.97s/it]\n",
      "100%|██████████| 3/3 [00:08<00:00,  2.99s/it]\n",
      "100%|██████████| 3/3 [00:12<00:00,  4.25s/it]\n"
     ]
    }
   ],
   "source": [
    "model_optimizers = []\n",
    "for paragraph in PARAGRAPHS:\n",
    "    model_optimizer = ModelOptimizer(\n",
    "        df = processed_df,\n",
    "        id_column = 'country',\n",
    "        section_column = 'paragraph',\n",
    "        column_filter = {'paragraph': paragraph},\n",
    "        model_type = \"lda\",\n",
    "        words_to_remove = PARAGRAPH_STOPWORDS[paragraph],\n",
    "        topic_numbers_range = (3, 6),\n",
    "        coherence_measure = \"c_v\",\n",
    "        coherence_num_words = 20,\n",
    "        random_state = 42,\n",
    "        alpha = 100,\n",
    "    )\n",
    "    model_optimizers.append(model_optimizer)"
   ]
  },
  {
   "cell_type": "markdown",
   "metadata": {},
   "source": [
    "Parameters `df`, `id_column`, and `section_column` are self-explanatory. As for the rest:\n",
    "- `column_filter`-  a dictionary that is used to filter analysed sections.\n",
    "- `model_type` - model selected to perform topic modelling. If you don't know which one to use, we recommend using \"lda\" (Latent Dirichlet Allocation) model. If you wish so you can also choose: \"nmf\" (Non-Negative Matrix Factorization) or \"ctm\" (Contextualized Topic Models).\n",
    "- `words_to_remove` - stopwords for individual sections\n",
    "- `topic_numbers_range` - possible values of numbers of topics that will be evaluated\n",
    "- `coherence_measure` - coherence measure used to asses topic quality. Possible values are: \"u_mass\", \"c_v\", \"c_w2v\", \"c_uci\", \"c_npmi\". For reference check out [this package](https://radimrehurek.com/gensim_3.8.3/models/coherencemodel.html) and [this paper](http://svn.aksw.org/papers/2015/WSDM_Topic_Evaluation/public.pdf)\n",
    "- `coherence_num_words` - number of words used in coherence evaluation\n",
    "\n",
    "After those arguments and `random_state` we can (but don't have to) define additional arguments for the choosen model type:\n",
    "- for LDA: \"passes\", \"iterations\", \"alpha\" ([reference](https://radimrehurek.com/gensim/models/ldamodel.html))\n",
    "- for NMF: \"passes\", \"kappa\" ([reference](https://radimrehurek.com/gensim/models/nmf.html))\n",
    "- for CTM: \"contextualized_model\" ([reference](https://pypi.org/project/contextualized-topic-models/))"
   ]
  },
  {
   "cell_type": "markdown",
   "metadata": {},
   "source": [
    "## Naming topics"
   ]
  },
  {
   "cell_type": "markdown",
   "metadata": {},
   "source": [
    "If you want to, you can automatically name the topics that models have just created."
   ]
  },
  {
   "cell_type": "code",
   "execution_count": null,
   "metadata": {},
   "outputs": [],
   "source": [
    "set_openai_key(\"my openai key\")\n",
    "for model_optimizer in model_optimizers:\n",
    "    model_optimizer.name_topics_automatically_gpt3()"
   ]
  },
  {
   "cell_type": "markdown",
   "metadata": {},
   "source": [
    "And if you want to, you can correct them manually."
   ]
  },
  {
   "cell_type": "code",
   "execution_count": 9,
   "metadata": {},
   "outputs": [
    {
     "data": {
      "text/plain": [
       "{0: 0, 1: 1, 2: 2, 3: 3, 4: 4}"
      ]
     },
     "execution_count": 9,
     "metadata": {},
     "output_type": "execute_result"
    }
   ],
   "source": [
    "model_optimizers[0].topic_names_dict"
   ]
  },
  {
   "cell_type": "code",
   "execution_count": 22,
   "metadata": {},
   "outputs": [
    {
     "name": "stdout",
     "output_type": "stream",
     "text": [
      "0: 0\n",
      "1: 1\n",
      "2: 2\n"
     ]
    }
   ],
   "source": [
    "model_optimizers[0].get_topic_names()"
   ]
  },
  {
   "cell_type": "code",
   "execution_count": 10,
   "metadata": {},
   "outputs": [],
   "source": [
    "model_optimizers[0].name_topics_manually(\n",
    "    topic_names = {\n",
    "        0: \"Digital transition\",\n",
    "        1: \"Green transition\",\n",
    "        2: \"Social and economic resilience\",\n",
    "        3: \"Healthcare\",\n",
    "        4: \"Education\",\n",
    "    }\n",
    ")"
   ]
  },
  {
   "cell_type": "markdown",
   "metadata": {},
   "source": [
    "You can do that by creating a dictionary that takes topic_id's (you can see them when you run the `get_topic_names` method) as keys and new topic names as values."
   ]
  },
  {
   "cell_type": "markdown",
   "metadata": {},
   "source": [
    "In a real use case, if you don't want to automatically name the topics you should first analyse the topics' contents in the application and then name the topics respectively."
   ]
  },
  {
   "cell_type": "markdown",
   "metadata": {},
   "source": [
    "### Saving data for the app"
   ]
  },
  {
   "cell_type": "markdown",
   "metadata": {},
   "source": [
    "Finally, when everything is done we can save our models to analyse documents in the web application using the `save_data_for_app` function. At this step, we can also decide to create summaries of each analysed section."
   ]
  },
  {
   "cell_type": "code",
   "execution_count": 11,
   "metadata": {},
   "outputs": [],
   "source": [
    "save_data_for_app(model_optimizers, path='results/', do_summaries=False)"
   ]
  },
  {
   "cell_type": "markdown",
   "metadata": {},
   "source": [
    "### Running the app"
   ]
  },
  {
   "cell_type": "markdown",
   "metadata": {},
   "source": [
    "To run the app you have to run the following command in the terminal:\n",
    "```\n",
    "hades run-app --config ./results/config.json\n",
    "```\n",
    "Before doing so, make sure that you are in a tutorial folder."
   ]
  }
 ],
 "metadata": {
  "kernelspec": {
   "display_name": "Python 3",
   "language": "python",
   "name": "python3"
  },
  "language_info": {
   "codemirror_mode": {
    "name": "ipython",
    "version": 3
   },
   "file_extension": ".py",
   "mimetype": "text/x-python",
   "name": "python",
   "nbconvert_exporter": "python",
   "pygments_lexer": "ipython3",
   "version": "3.9.13"
  },
  "orig_nbformat": 4
 },
 "nbformat": 4,
 "nbformat_minor": 2
}
