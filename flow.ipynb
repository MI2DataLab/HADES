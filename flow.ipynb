{
 "cells": [
  {
   "cell_type": "code",
   "execution_count": 9,
   "metadata": {},
   "outputs": [],
   "source": [
    "from hades.data_loading import load_processed_data\n",
    "from hades.topic_modeling import ModelOptimizer, save_data_for_app\n",
    "from hades.topic_modeling import set_openai_key\n",
    "from necp_reports import DIMENSIONS, COMMON_WORDS, STOPWORDS"
   ]
  },
  {
   "cell_type": "code",
   "execution_count": 10,
   "metadata": {},
   "outputs": [
    {
     "name": "stdout",
     "output_type": "stream",
     "text": [
      "Loading processed data\n",
      "Processing text\n"
     ]
    }
   ],
   "source": [
    "set_openai_key(\"\")\n",
    "data_path = \"./notebooks/necp_reports/\"\n",
    "processed_df = load_processed_data(\n",
    "    data_path=data_path,\n",
    "    stop_words=STOPWORDS,\n",
    "    id_column='country',\n",
    "    flattened_by_col='energy_union_dimension'\n",
    ")"
   ]
  },
  {
   "cell_type": "code",
   "execution_count": 11,
   "metadata": {},
   "outputs": [],
   "source": [
    "processed_df.country = processed_df.country.apply(lambda x: x[0].upper() + x[1:])"
   ]
  },
  {
   "cell_type": "code",
   "execution_count": 12,
   "metadata": {},
   "outputs": [
    {
     "name": "stderr",
     "output_type": "stream",
     "text": [
      "100%|██████████| 3/3 [00:13<00:00,  4.55s/it]\n",
      "100%|██████████| 3/3 [00:34<00:00, 11.50s/it]\n",
      "100%|██████████| 3/3 [00:08<00:00,  2.90s/it]\n",
      "100%|██████████| 3/3 [00:14<00:00,  4.80s/it]\n",
      "100%|██████████| 3/3 [00:06<00:00,  2.33s/it]\n",
      "100%|██████████| 3/3 [00:11<00:00,  3.75s/it]\n",
      "100%|██████████| 3/3 [00:08<00:00,  2.89s/it]\n",
      "100%|██████████| 3/3 [00:15<00:00,  5.11s/it]\n",
      "100%|██████████| 3/3 [00:07<00:00,  2.35s/it]\n",
      "100%|██████████| 3/3 [00:11<00:00,  3.89s/it]\n"
     ]
    }
   ],
   "source": [
    "model_optimizers = []\n",
    "for dimension_nr in range(len(DIMENSIONS)):\n",
    "    filter_dict = {'energy_union_dimension': DIMENSIONS[dimension_nr]}\n",
    "    model_optimizer = ModelOptimizer(\n",
    "        processed_df,\n",
    "        'country',\n",
    "        'section',\n",
    "        filter_dict,\n",
    "        \"lda\",\n",
    "        COMMON_WORDS[DIMENSIONS[dimension_nr]],\n",
    "        (3,6),\n",
    "        alpha=100\n",
    "    )\n",
    "    model_optimizer.name_topics_automatically_gpt3()\n",
    "    model_optimizers.append(model_optimizer)"
   ]
  },
  {
   "cell_type": "code",
   "execution_count": 13,
   "metadata": {},
   "outputs": [
    {
     "name": "stderr",
     "output_type": "stream",
     "text": [
      "C:\\Users\\piotr\\AppData\\Local\\Packages\\PythonSoftwareFoundation.Python.3.9_qbz5n2kfra8p0\\LocalCache\\local-packages\\Python39\\site-packages\\pyLDAvis\\_prepare.py:246: FutureWarning: In a future version of pandas all arguments of DataFrame.drop except for the argument 'labels' will be keyword-only.\n",
      "  default_term_info = default_term_info.sort_values(\n",
      "C:\\Users\\piotr\\AppData\\Local\\Packages\\PythonSoftwareFoundation.Python.3.9_qbz5n2kfra8p0\\LocalCache\\local-packages\\Python39\\site-packages\\pyLDAvis\\_prepare.py:246: FutureWarning: In a future version of pandas all arguments of DataFrame.drop except for the argument 'labels' will be keyword-only.\n",
      "  default_term_info = default_term_info.sort_values(\n",
      "C:\\Users\\piotr\\AppData\\Local\\Packages\\PythonSoftwareFoundation.Python.3.9_qbz5n2kfra8p0\\LocalCache\\local-packages\\Python39\\site-packages\\pyLDAvis\\_prepare.py:246: FutureWarning: In a future version of pandas all arguments of DataFrame.drop except for the argument 'labels' will be keyword-only.\n",
      "  default_term_info = default_term_info.sort_values(\n",
      "C:\\Users\\piotr\\AppData\\Local\\Packages\\PythonSoftwareFoundation.Python.3.9_qbz5n2kfra8p0\\LocalCache\\local-packages\\Python39\\site-packages\\pyLDAvis\\_prepare.py:246: FutureWarning: In a future version of pandas all arguments of DataFrame.drop except for the argument 'labels' will be keyword-only.\n",
      "  default_term_info = default_term_info.sort_values(\n",
      "C:\\Users\\piotr\\AppData\\Local\\Packages\\PythonSoftwareFoundation.Python.3.9_qbz5n2kfra8p0\\LocalCache\\local-packages\\Python39\\site-packages\\pyLDAvis\\_prepare.py:246: FutureWarning: In a future version of pandas all arguments of DataFrame.drop except for the argument 'labels' will be keyword-only.\n",
      "  default_term_info = default_term_info.sort_values(\n"
     ]
    }
   ],
   "source": [
    "save_data_for_app(model_optimizers, path='./notebooks/necp_results/', do_summaries=False)"
   ]
  }
 ],
 "metadata": {
  "kernelspec": {
   "display_name": "Python 3",
   "language": "python",
   "name": "python3"
  },
  "language_info": {
   "codemirror_mode": {
    "name": "ipython",
    "version": 3
   },
   "file_extension": ".py",
   "mimetype": "text/x-python",
   "name": "python",
   "nbconvert_exporter": "python",
   "pygments_lexer": "ipython3",
   "version": "3.9.13"
  },
  "orig_nbformat": 4,
  "vscode": {
   "interpreter": {
    "hash": "b7e3d984ac6b96308231491eb30f4c8feaf98844c982bbb63c649bfa5832fd16"
   }
  }
 },
 "nbformat": 4,
 "nbformat_minor": 2
}
